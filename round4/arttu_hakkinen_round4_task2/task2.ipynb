{
 "cells": [
  {
   "cell_type": "code",
   "execution_count": 1,
   "metadata": {},
   "outputs": [],
   "source": [
    "import pandas as pd\n",
    "import numpy as np"
   ]
  },
  {
   "cell_type": "code",
   "execution_count": 2,
   "metadata": {},
   "outputs": [
    {
     "data": {
      "text/html": [
       "<div>\n",
       "<style scoped>\n",
       "    .dataframe tbody tr th:only-of-type {\n",
       "        vertical-align: middle;\n",
       "    }\n",
       "\n",
       "    .dataframe tbody tr th {\n",
       "        vertical-align: top;\n",
       "    }\n",
       "\n",
       "    .dataframe thead th {\n",
       "        text-align: right;\n",
       "    }\n",
       "</style>\n",
       "<table border=\"1\" class=\"dataframe\">\n",
       "  <thead>\n",
       "    <tr style=\"text-align: right;\">\n",
       "      <th></th>\n",
       "      <th>G1</th>\n",
       "      <th>G2</th>\n",
       "      <th>G3</th>\n",
       "      <th>G4</th>\n",
       "      <th>G5</th>\n",
       "      <th>G6</th>\n",
       "    </tr>\n",
       "  </thead>\n",
       "  <tbody>\n",
       "    <tr>\n",
       "      <th>G1</th>\n",
       "      <td>13</td>\n",
       "      <td>9</td>\n",
       "      <td>9</td>\n",
       "      <td>9</td>\n",
       "      <td>5</td>\n",
       "      <td>13</td>\n",
       "    </tr>\n",
       "    <tr>\n",
       "      <th>G3</th>\n",
       "      <td>9</td>\n",
       "      <td>7</td>\n",
       "      <td>11</td>\n",
       "      <td>8</td>\n",
       "      <td>4</td>\n",
       "      <td>10</td>\n",
       "    </tr>\n",
       "    <tr>\n",
       "      <th>G5</th>\n",
       "      <td>5</td>\n",
       "      <td>5</td>\n",
       "      <td>4</td>\n",
       "      <td>4</td>\n",
       "      <td>14</td>\n",
       "      <td>5</td>\n",
       "    </tr>\n",
       "  </tbody>\n",
       "</table>\n",
       "</div>"
      ],
      "text/plain": [
       "    G1  G2  G3  G4  G5  G6\n",
       "G1  13   9   9   9   5  13\n",
       "G3   9   7  11   8   4  10\n",
       "G5   5   5   4   4  14   5"
      ]
     },
     "execution_count": 2,
     "metadata": {},
     "output_type": "execute_result"
    }
   ],
   "source": [
    "MCS = pd.DataFrame(\n",
    "    index=['G1', 'G3', 'G5'],\n",
    "    columns=['G1', 'G2', 'G3', 'G4', 'G5', 'G6'],\n",
    "    data=np.array([\n",
    "        [13,9,9,9,5,13],\n",
    "        [9,7,11,8,4,10],\n",
    "        [5,5,4,4,14,5]\n",
    "    ])\n",
    ")\n",
    "MCS"
   ]
  },
  {
   "cell_type": "code",
   "execution_count": 3,
   "metadata": {},
   "outputs": [
    {
     "data": {
      "text/plain": [
       "{'G1': 13, 'G2': 11, 'G3': 11, 'G4': 15, 'G5': 14, 'G6': 17}"
      ]
     },
     "execution_count": 3,
     "metadata": {},
     "output_type": "execute_result"
    }
   ],
   "source": [
    "sizes = {\n",
    "    'G1': 13,\n",
    "    'G2': 11,\n",
    "    'G3': 11,\n",
    "    'G4': 15,\n",
    "    'G5': 14,\n",
    "    'G6': 17\n",
    "}\n",
    "sizes"
   ]
  },
  {
   "cell_type": "code",
   "execution_count": 4,
   "metadata": {},
   "outputs": [
    {
     "name": "stdout",
     "output_type": "stream",
     "text": [
      "Union-normalized distance between graphs G1 and G1 is 0.0.\n",
      "Union-normalized distance between graphs G1 and G2 is 0.4.\n",
      "Union-normalized distance between graphs G1 and G3 is 0.4.\n",
      "Union-normalized distance between graphs G1 and G4 is 0.53.\n",
      "Union-normalized distance between graphs G1 and G5 is 0.77.\n",
      "Union-normalized distance between graphs G1 and G6 is 0.24.\n",
      "\n",
      "Union-normalized distance between graphs G3 and G1 is 0.4.\n",
      "Union-normalized distance between graphs G3 and G2 is 0.53.\n",
      "Union-normalized distance between graphs G3 and G3 is 0.0.\n",
      "Union-normalized distance between graphs G3 and G4 is 0.56.\n",
      "Union-normalized distance between graphs G3 and G5 is 0.81.\n",
      "Union-normalized distance between graphs G3 and G6 is 0.44.\n",
      "\n",
      "Union-normalized distance between graphs G5 and G1 is 0.77.\n",
      "Union-normalized distance between graphs G5 and G2 is 0.75.\n",
      "Union-normalized distance between graphs G5 and G3 is 0.81.\n",
      "Union-normalized distance between graphs G5 and G4 is 0.84.\n",
      "Union-normalized distance between graphs G5 and G5 is 0.0.\n",
      "Union-normalized distance between graphs G5 and G6 is 0.81.\n",
      "\n"
     ]
    }
   ],
   "source": [
    "def Udist(a, b, mcs):\n",
    "    return 1 - (mcs / (a+b-mcs))\n",
    "\n",
    "for graph1 in list(MCS.index):\n",
    "    for graph2 in list(MCS.columns):\n",
    "        udist = Udist(sizes[graph1], sizes[graph2], MCS.loc[graph1, graph2])\n",
    "        print(\"Union-normalized distance between graphs {} and {} is {}.\".format(graph1, graph2, np.round(udist, 2)))\n",
    "    print()"
   ]
  },
  {
   "cell_type": "code",
   "execution_count": 6,
   "metadata": {},
   "outputs": [
    {
     "name": "stdout",
     "output_type": "stream",
     "text": [
      "Maximum-normalized distance between graphs G1 and G1 is 0.0.\n",
      "Maximum-normalized distance between graphs G1 and G2 is 0.31.\n",
      "Maximum-normalized distance between graphs G1 and G3 is 0.31.\n",
      "Maximum-normalized distance between graphs G1 and G4 is 0.4.\n",
      "Maximum-normalized distance between graphs G1 and G5 is 0.64.\n",
      "Maximum-normalized distance between graphs G1 and G6 is 0.24.\n",
      "\n",
      "Maximum-normalized distance between graphs G3 and G1 is 0.31.\n",
      "Maximum-normalized distance between graphs G3 and G2 is 0.36.\n",
      "Maximum-normalized distance between graphs G3 and G3 is 0.0.\n",
      "Maximum-normalized distance between graphs G3 and G4 is 0.47.\n",
      "Maximum-normalized distance between graphs G3 and G5 is 0.71.\n",
      "Maximum-normalized distance between graphs G3 and G6 is 0.41.\n",
      "\n",
      "Maximum-normalized distance between graphs G5 and G1 is 0.64.\n",
      "Maximum-normalized distance between graphs G5 and G2 is 0.64.\n",
      "Maximum-normalized distance between graphs G5 and G3 is 0.71.\n",
      "Maximum-normalized distance between graphs G5 and G4 is 0.73.\n",
      "Maximum-normalized distance between graphs G5 and G5 is 0.0.\n",
      "Maximum-normalized distance between graphs G5 and G6 is 0.71.\n",
      "\n"
     ]
    }
   ],
   "source": [
    "def Mdist(a, b, mcs):\n",
    "    return 1 - (mcs / max(a, b))\n",
    "\n",
    "for graph1 in list(MCS.index):\n",
    "    for graph2 in list(MCS.columns):\n",
    "        udist = Mdist(sizes[graph1], sizes[graph2], MCS.loc[graph1, graph2])\n",
    "        print(\"Maximum-normalized distance between graphs {} and {} is {}.\".format(graph1, graph2, np.round(udist, 2)))\n",
    "    print()"
   ]
  },
  {
   "cell_type": "code",
   "execution_count": null,
   "metadata": {},
   "outputs": [],
   "source": []
  }
 ],
 "metadata": {
  "kernelspec": {
   "display_name": "Python 3",
   "language": "python",
   "name": "python3"
  },
  "language_info": {
   "codemirror_mode": {
    "name": "ipython",
    "version": 3
   },
   "file_extension": ".py",
   "mimetype": "text/x-python",
   "name": "python",
   "nbconvert_exporter": "python",
   "pygments_lexer": "ipython3",
   "version": "3.8.6"
  }
 },
 "nbformat": 4,
 "nbformat_minor": 4
}
