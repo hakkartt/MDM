{
 "cells": [
  {
   "cell_type": "code",
   "execution_count": 1,
   "metadata": {},
   "outputs": [],
   "source": [
    "import pandas as pd\n",
    "import numpy as np"
   ]
  },
  {
   "cell_type": "code",
   "execution_count": 2,
   "metadata": {},
   "outputs": [
    {
     "data": {
      "text/html": [
       "<div>\n",
       "<style scoped>\n",
       "    .dataframe tbody tr th:only-of-type {\n",
       "        vertical-align: middle;\n",
       "    }\n",
       "\n",
       "    .dataframe tbody tr th {\n",
       "        vertical-align: top;\n",
       "    }\n",
       "\n",
       "    .dataframe thead th {\n",
       "        text-align: right;\n",
       "    }\n",
       "</style>\n",
       "<table border=\"1\" class=\"dataframe\">\n",
       "  <thead>\n",
       "    <tr style=\"text-align: right;\">\n",
       "      <th></th>\n",
       "      <th>m1</th>\n",
       "      <th>m2</th>\n",
       "      <th>m3</th>\n",
       "      <th>m4</th>\n",
       "      <th>m5</th>\n",
       "      <th>m6</th>\n",
       "    </tr>\n",
       "  </thead>\n",
       "  <tbody>\n",
       "    <tr>\n",
       "      <th>u1</th>\n",
       "      <td>3</td>\n",
       "      <td>1</td>\n",
       "      <td>2</td>\n",
       "      <td>2</td>\n",
       "      <td>0</td>\n",
       "      <td>2</td>\n",
       "    </tr>\n",
       "    <tr>\n",
       "      <th>u2</th>\n",
       "      <td>4</td>\n",
       "      <td>2</td>\n",
       "      <td>3</td>\n",
       "      <td>3</td>\n",
       "      <td>4</td>\n",
       "      <td>2</td>\n",
       "    </tr>\n",
       "    <tr>\n",
       "      <th>u3</th>\n",
       "      <td>4</td>\n",
       "      <td>1</td>\n",
       "      <td>3</td>\n",
       "      <td>3</td>\n",
       "      <td>2</td>\n",
       "      <td>5</td>\n",
       "    </tr>\n",
       "    <tr>\n",
       "      <th>u4</th>\n",
       "      <td>0</td>\n",
       "      <td>3</td>\n",
       "      <td>4</td>\n",
       "      <td>4</td>\n",
       "      <td>5</td>\n",
       "      <td>0</td>\n",
       "    </tr>\n",
       "    <tr>\n",
       "      <th>u5</th>\n",
       "      <td>2</td>\n",
       "      <td>5</td>\n",
       "      <td>5</td>\n",
       "      <td>0</td>\n",
       "      <td>3</td>\n",
       "      <td>3</td>\n",
       "    </tr>\n",
       "    <tr>\n",
       "      <th>u6</th>\n",
       "      <td>1</td>\n",
       "      <td>4</td>\n",
       "      <td>0</td>\n",
       "      <td>5</td>\n",
       "      <td>0</td>\n",
       "      <td>0</td>\n",
       "    </tr>\n",
       "  </tbody>\n",
       "</table>\n",
       "</div>"
      ],
      "text/plain": [
       "    m1  m2  m3  m4  m5  m6\n",
       "u1   3   1   2   2   0   2\n",
       "u2   4   2   3   3   4   2\n",
       "u3   4   1   3   3   2   5\n",
       "u4   0   3   4   4   5   0\n",
       "u5   2   5   5   0   3   3\n",
       "u6   1   4   0   5   0   0"
      ]
     },
     "execution_count": 2,
     "metadata": {},
     "output_type": "execute_result"
    }
   ],
   "source": [
    "table = pd.DataFrame(\n",
    "    columns=['m1', 'm2', 'm3', 'm4', 'm5', 'm6'],\n",
    "    index=['u1', 'u2', 'u3', 'u4', 'u5', 'u6'],\n",
    "    data=np.array([\n",
    "        [3,1,2,2,0,2],\n",
    "        [4,2,3,3,4,2],\n",
    "        [4,1,3,3,2,5],\n",
    "        [0,3,4,4,5,0],\n",
    "        [2,5,5,0,3,3],\n",
    "        [1,4,0,5,0,0]\n",
    "    ])\n",
    ")\n",
    "table"
   ]
  },
  {
   "cell_type": "code",
   "execution_count": 3,
   "metadata": {},
   "outputs": [
    {
     "name": "stdout",
     "output_type": "stream",
     "text": [
      "Mean rating for u1 equals 2.0\n",
      "Mean rating for u2 equals 3.0\n",
      "Mean rating for u3 equals 3.0\n",
      "Mean rating for u4 equals 4.0\n",
      "Mean rating for u5 equals 3.6\n",
      "Mean rating for u6 equals 3.3333333333333335\n"
     ]
    }
   ],
   "source": [
    "# a)\n",
    "def mean_rating(X):\n",
    "    return X.where(lambda x: x > 0).dropna().mean()\n",
    "\n",
    "for u in list(table.index):\n",
    "    print(\"Mean rating for {} equals {}\".format(u, mean_rating(table.loc[u, :])))"
   ]
  },
  {
   "cell_type": "code",
   "execution_count": 8,
   "metadata": {},
   "outputs": [
    {
     "data": {
      "text/plain": [
       "array([[ 1.   ,  0.845,  0.715,  1.   , -0.816, -0.721],\n",
       "       [ 0.845,  1.   ,  0.   ,  1.   , -0.559, -0.721],\n",
       "       [ 0.715,  0.   ,  1.   ,  0.426, -0.589, -0.577],\n",
       "       [ 1.   ,  1.   ,  0.426,  1.   , -0.866,  1.   ],\n",
       "       [-0.816, -0.559, -0.589, -0.866,  1.   ,  1.   ],\n",
       "       [-0.721, -0.721, -0.577,  1.   ,  1.   ,  1.   ]])"
      ]
     },
     "execution_count": 8,
     "metadata": {},
     "output_type": "execute_result"
    }
   ],
   "source": [
    "# b)\n",
    "M = np.zeros_like(table.values.astype(np.float))\n",
    "C = np.zeros_like(table.values.astype(np.int))\n",
    "\n",
    "def pearson(data):\n",
    "    # drop rows that are not co-rated\n",
    "    data = data.where(lambda x: x > 0).dropna(how='any', axis=0)\n",
    "    \n",
    "    x = data.iloc[:, 0]\n",
    "    x_mean = mean_rating(x)\n",
    "    x_norm = (x - x_mean).values\n",
    "    \n",
    "    y = data.iloc[:, 1]\n",
    "    y_mean = mean_rating(y)\n",
    "    y_norm = (y - y_mean).values\n",
    "    \n",
    "    num = np.sum(x_norm * y_norm)\n",
    "    denom = np.sqrt(np.sum(x_norm**2)) * np.sqrt(np.sum(y_norm**2))\n",
    "    \n",
    "    return data.shape[0], np.round(num / denom, 3)\n",
    "    \n",
    "    \n",
    "for i, x in enumerate(list(table.index)):\n",
    "    for j, y in enumerate(list(table.index)):\n",
    "        C[i, j], M[i, j] = pearson(table.T[[x, y]])\n",
    "        \n",
    "# Similarity matrix:\n",
    "M"
   ]
  },
  {
   "cell_type": "code",
   "execution_count": 9,
   "metadata": {},
   "outputs": [
    {
     "data": {
      "text/plain": [
       "array([[5, 5, 5, 3, 4, 3],\n",
       "       [5, 6, 6, 4, 5, 3],\n",
       "       [5, 6, 6, 4, 5, 3],\n",
       "       [3, 4, 4, 4, 3, 2],\n",
       "       [4, 5, 5, 3, 5, 2],\n",
       "       [3, 3, 3, 2, 2, 3]])"
      ]
     },
     "execution_count": 9,
     "metadata": {},
     "output_type": "execute_result"
    }
   ],
   "source": [
    "# Common ratings matrix:\n",
    "C"
   ]
  },
  {
   "cell_type": "code",
   "execution_count": 10,
   "metadata": {},
   "outputs": [],
   "source": [
    "# c)"
   ]
  },
  {
   "cell_type": "code",
   "execution_count": 10,
   "metadata": {},
   "outputs": [
    {
     "name": "stdout",
     "output_type": "stream",
     "text": [
      "3.0\n"
     ]
    }
   ],
   "source": [
    "# u1, m5\n",
    "pred = (1 * (5-4) + 0.845 * (4-3)) / (1 + 0.845) + 2\n",
    "print(pred)"
   ]
  },
  {
   "cell_type": "code",
   "execution_count": 13,
   "metadata": {},
   "outputs": [
    {
     "name": "stdout",
     "output_type": "stream",
     "text": [
      "5.0\n",
      "3.35\n"
     ]
    }
   ],
   "source": [
    "# u4, m5\n",
    "pred = (1 * (3 - 2) + 1 * (4 - 3)) / (1 + 1) + 4 # with u1 and u2\n",
    "print(pred)\n",
    "pred = (1 * (3 - 2) + 1 * (1 - 3.3)) / (1 + 1) + 4 # with u1 and u6\n",
    "print(pred)"
   ]
  },
  {
   "cell_type": "code",
   "execution_count": 15,
   "metadata": {},
   "outputs": [
    {
     "name": "stdout",
     "output_type": "stream",
     "text": [
      "3.5\n"
     ]
    }
   ],
   "source": [
    "# u4, m6\n",
    "pred = (1 * (2 - 2) + 1 * (2 - 3)) / (1 + 1) + 4\n",
    "print(pred)"
   ]
  },
  {
   "cell_type": "code",
   "execution_count": 16,
   "metadata": {},
   "outputs": [
    {
     "name": "stdout",
     "output_type": "stream",
     "text": [
      "5.300000000000001\n"
     ]
    }
   ],
   "source": [
    "# u5, m4\n",
    "pred = (1 * (5 - 3.3)) / (1) + 3.6\n",
    "print(pred)"
   ]
  },
  {
   "cell_type": "code",
   "execution_count": 19,
   "metadata": {},
   "outputs": [
    {
     "name": "stdout",
     "output_type": "stream",
     "text": [
      "4.0\n"
     ]
    }
   ],
   "source": [
    "# u6, m3\n",
    "pred = (1 * (4 - 4.0) + 1 * (5 - 3.6)) / (1 + 1) + 3.3\n",
    "print(pred)"
   ]
  },
  {
   "cell_type": "code",
   "execution_count": 20,
   "metadata": {},
   "outputs": [
    {
     "name": "stdout",
     "output_type": "stream",
     "text": [
      "3.5\n"
     ]
    }
   ],
   "source": [
    "# u6, m5\n",
    "pred = (1 * (5 - 4.0) + 1 * (3 - 3.6)) / (1 + 1) + 3.3\n",
    "print(pred)"
   ]
  },
  {
   "cell_type": "code",
   "execution_count": 21,
   "metadata": {},
   "outputs": [
    {
     "name": "stdout",
     "output_type": "stream",
     "text": [
      "2.6999999999999997\n"
     ]
    }
   ],
   "source": [
    "# u6, m5\n",
    "pred = (1 * (3 - 3.6)) / (1) + 3.3\n",
    "print(pred)"
   ]
  },
  {
   "cell_type": "code",
   "execution_count": null,
   "metadata": {},
   "outputs": [],
   "source": []
  }
 ],
 "metadata": {
  "kernelspec": {
   "display_name": "Python 3",
   "language": "python",
   "name": "python3"
  },
  "language_info": {
   "codemirror_mode": {
    "name": "ipython",
    "version": 3
   },
   "file_extension": ".py",
   "mimetype": "text/x-python",
   "name": "python",
   "nbconvert_exporter": "python",
   "pygments_lexer": "ipython3",
   "version": "3.8.6"
  }
 },
 "nbformat": 4,
 "nbformat_minor": 4
}
