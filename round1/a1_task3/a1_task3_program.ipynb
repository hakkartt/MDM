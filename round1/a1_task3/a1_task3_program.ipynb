{
 "cells": [
  {
   "cell_type": "markdown",
   "metadata": {},
   "source": [
    "# Arttu Häkkinen\n",
    "# 596077"
   ]
  },
  {
   "cell_type": "code",
   "execution_count": 1,
   "metadata": {},
   "outputs": [],
   "source": [
    "import pandas as pd   \n",
    "import numpy as np\n",
    "import matplotlib.pyplot as plt"
   ]
  },
  {
   "cell_type": "code",
   "execution_count": 2,
   "metadata": {},
   "outputs": [
    {
     "data": {
      "text/plain": [
       "array([[ 0. ,  1. ],\n",
       "       [-0.5,  1.5],\n",
       "       [ 1.5,  2.5],\n",
       "       [ 1. ,  3. ]])"
      ]
     },
     "execution_count": 2,
     "metadata": {},
     "output_type": "execute_result"
    }
   ],
   "source": [
    "A = np.array([[0,1], [-1/2, 3/2], [3/2, 5/2], [1, 3]])\n",
    "A"
   ]
  },
  {
   "cell_type": "markdown",
   "metadata": {},
   "source": [
    "## a)\n",
    "\n",
    "Carry out the principal component analysis of these data, that is, compute the eigenvalue decomposition of the corresponding sample covariance matrix."
   ]
  },
  {
   "cell_type": "code",
   "execution_count": 3,
   "metadata": {},
   "outputs": [
    {
     "data": {
      "text/plain": [
       "array([[-0.5, -1. ],\n",
       "       [-1. , -0.5],\n",
       "       [ 1. ,  0.5],\n",
       "       [ 0.5,  1. ]])"
      ]
     },
     "execution_count": 3,
     "metadata": {},
     "output_type": "execute_result"
    }
   ],
   "source": [
    "# First we need to normalize the data, so we center the data around its mean.\n",
    "rows, columns = A.shape\n",
    "A_tilde = np.ones_like(A)\n",
    "\n",
    "for c in range(columns):\n",
    "    c_mean = np.mean(A[:, c])\n",
    "    c_std = np.std(A[:, c])\n",
    "    for r in range(rows):\n",
    "        A_tilde[r, c] = (A[r, c] - c_mean)\n",
    "        \n",
    "A_tilde"
   ]
  },
  {
   "cell_type": "code",
   "execution_count": 4,
   "metadata": {},
   "outputs": [
    {
     "data": {
      "text/plain": [
       "0.0"
      ]
     },
     "execution_count": 4,
     "metadata": {},
     "output_type": "execute_result"
    }
   ],
   "source": [
    "A_tilde.mean()"
   ]
  },
  {
   "cell_type": "code",
   "execution_count": 5,
   "metadata": {},
   "outputs": [
    {
     "data": {
      "text/plain": [
       "array([[0.83333333, 0.66666667],\n",
       "       [0.66666667, 0.83333333]])"
      ]
     },
     "execution_count": 5,
     "metadata": {},
     "output_type": "execute_result"
    }
   ],
   "source": [
    "# Next we compute the empirical covariance matrix\n",
    "n, d = A_tilde.shape\n",
    "S = (A_tilde.T @ A_tilde) / (n - 1)\n",
    "S"
   ]
  },
  {
   "cell_type": "code",
   "execution_count": 6,
   "metadata": {},
   "outputs": [
    {
     "data": {
      "text/plain": [
       "array([[ 0.70710678, -0.70710678],\n",
       "       [ 0.70710678,  0.70710678]])"
      ]
     },
     "execution_count": 6,
     "metadata": {},
     "output_type": "execute_result"
    }
   ],
   "source": [
    "# Computing the eigenvalue decomposition of S\n",
    "eigenvals, eigenvects = np.linalg.eig(S)\n",
    "eigenvects"
   ]
  },
  {
   "cell_type": "markdown",
   "metadata": {},
   "source": [
    "Each eigenvector/column corresponds one principal component of the data."
   ]
  },
  {
   "cell_type": "code",
   "execution_count": 7,
   "metadata": {},
   "outputs": [
    {
     "data": {
      "text/plain": [
       "array([1.5       , 0.16666667])"
      ]
     },
     "execution_count": 7,
     "metadata": {},
     "output_type": "execute_result"
    }
   ],
   "source": [
    "eigenvals"
   ]
  },
  {
   "cell_type": "markdown",
   "metadata": {},
   "source": [
    "The eigenvalues on the other hand describe how much of the variability in the data is contained in the corresponding eigenvector. This is, the first eigenvalue corresponds to the first principal component, and so on."
   ]
  },
  {
   "cell_type": "markdown",
   "metadata": {},
   "source": [
    "## b)"
   ]
  },
  {
   "cell_type": "markdown",
   "metadata": {},
   "source": [
    "Consider the resulting decomposition.\n",
    " \n",
    "### i.\n",
    " \n",
    "Use it to transform the original 2-dimensional data set into a\n",
    "1-dimensional representation (a 4 × 1 matrix) such that the\n",
    "variance of the resulting data is equal to the largest eigenvalue."
   ]
  },
  {
   "cell_type": "code",
   "execution_count": 8,
   "metadata": {},
   "outputs": [
    {
     "data": {
      "text/plain": [
       "array([-1.06066017, -1.06066017,  1.06066017,  1.06066017])"
      ]
     },
     "execution_count": 8,
     "metadata": {},
     "output_type": "execute_result"
    }
   ],
   "source": [
    "# The 1-dim representation x1d\n",
    "v = eigenvects[:, 0]\n",
    "x1d = A_tilde @ v\n",
    "x1d"
   ]
  },
  {
   "cell_type": "code",
   "execution_count": 9,
   "metadata": {},
   "outputs": [
    {
     "data": {
      "text/plain": [
       "1.4999999999999998"
      ]
     },
     "execution_count": 9,
     "metadata": {},
     "output_type": "execute_result"
    }
   ],
   "source": [
    "# Check the variance of the 1-dim representation\n",
    "mu = np.sum(x1d) / n\n",
    "var = np.sum((x1d - mu)**2) / (n - 1)\n",
    "var"
   ]
  },
  {
   "cell_type": "markdown",
   "metadata": {},
   "source": [
    "### ii.\n",
    "\n",
    "Next, use it to transform the original data set into a 2-dimensional\n",
    "representation, such that the variance of one of the columns\n",
    "is equal to the smallest eigenvalue."
   ]
  },
  {
   "cell_type": "code",
   "execution_count": 10,
   "metadata": {},
   "outputs": [
    {
     "data": {
      "text/plain": [
       "array([[-1.06066017, -0.35355339],\n",
       "       [-1.06066017,  0.35355339],\n",
       "       [ 1.06066017, -0.35355339],\n",
       "       [ 1.06066017,  0.35355339]])"
      ]
     },
     "execution_count": 10,
     "metadata": {},
     "output_type": "execute_result"
    }
   ],
   "source": [
    "# The 2-dim representation X\n",
    "X = A_tilde @ eigenvects\n",
    "X"
   ]
  },
  {
   "cell_type": "code",
   "execution_count": 11,
   "metadata": {},
   "outputs": [
    {
     "name": "stdout",
     "output_type": "stream",
     "text": [
      "The variance of the column no. 1 is 1.4999999999999998\n",
      "The variance of the column no. 2 is 0.16666666666666663\n"
     ]
    }
   ],
   "source": [
    "# Compute the variances of the columns\n",
    "for c in range(X.shape[1]):\n",
    "    x = X[:, c]\n",
    "    mu = np.sum(x) / n\n",
    "    var = np.sum((x - mu)**2) / (n - 1)\n",
    "    print(\"The variance of the column no. {} is {}\".format(c+1, var))"
   ]
  },
  {
   "cell_type": "markdown",
   "metadata": {},
   "source": [
    "So, the variance of the second column is equal to the smallest eigenvalue."
   ]
  },
  {
   "cell_type": "markdown",
   "metadata": {},
   "source": [
    "## c)"
   ]
  },
  {
   "cell_type": "markdown",
   "metadata": {},
   "source": [
    "### i."
   ]
  },
  {
   "cell_type": "code",
   "execution_count": 12,
   "metadata": {},
   "outputs": [],
   "source": [
    "# Helper function to calculate euclidean distance between 2 points\n",
    "def euclidean(x, y):\n",
    "    return np.sqrt(np.sum((x-y)**2))"
   ]
  },
  {
   "cell_type": "code",
   "execution_count": 13,
   "metadata": {},
   "outputs": [
    {
     "name": "stdout",
     "output_type": "stream",
     "text": [
      "Euclidean distance between points...\n",
      "- ...1 and 2 is 0.7071067811865476.\n",
      "- ...1 and 3 is 2.1213203435596424.\n",
      "- ...1 and 4 is 2.23606797749979.\n",
      "- ...2 and 3 is 2.23606797749979.\n",
      "- ...2 and 4 is 2.1213203435596424.\n",
      "- ...3 and 4 is 0.7071067811865476.\n"
     ]
    }
   ],
   "source": [
    "n, d = A.shape\n",
    "print(\"Euclidean distance between points...\")\n",
    "visited = []\n",
    "for i in range(n):\n",
    "    for j in range(n):\n",
    "        if (j, i) not in visited:\n",
    "            visited.append((i, j))\n",
    "            if j != i:\n",
    "                x = A[i,:].T\n",
    "                y = A[j,:].T\n",
    "                print(\"- ...{} and {} is {}.\".format(i+1, j+1, euclidean(x, y)))"
   ]
  },
  {
   "cell_type": "markdown",
   "metadata": {},
   "source": [
    "### ii."
   ]
  },
  {
   "cell_type": "code",
   "execution_count": 14,
   "metadata": {},
   "outputs": [
    {
     "name": "stdout",
     "output_type": "stream",
     "text": [
      "Euclidean distance between points...\n",
      "- ...1 and 2 is 0.0.\n",
      "- ...1 and 3 is 2.1213203435596424.\n",
      "- ...1 and 4 is 2.1213203435596424.\n",
      "- ...2 and 3 is 2.1213203435596424.\n",
      "- ...2 and 4 is 2.1213203435596424.\n",
      "- ...3 and 4 is 0.0.\n"
     ]
    }
   ],
   "source": [
    "n, d = A.shape\n",
    "print(\"Euclidean distance between points...\")\n",
    "visited = []\n",
    "for i in range(n):\n",
    "    for j in range(n):\n",
    "        if (j, i) not in visited:\n",
    "            visited.append((i, j))\n",
    "            if j != i:\n",
    "                x = x1d[i]\n",
    "                y = x1d[j]\n",
    "                print(\"- ...{} and {} is {}.\".format(i+1, j+1, euclidean(x, y)))"
   ]
  },
  {
   "cell_type": "markdown",
   "metadata": {},
   "source": [
    "### iii."
   ]
  },
  {
   "cell_type": "code",
   "execution_count": 15,
   "metadata": {},
   "outputs": [
    {
     "name": "stdout",
     "output_type": "stream",
     "text": [
      "Euclidean distance between points...\n",
      "- ...1 and 2 is 0.7071067811865475.\n",
      "- ...1 and 3 is 2.1213203435596424.\n",
      "- ...1 and 4 is 2.2360679774997894.\n",
      "- ...2 and 3 is 2.2360679774997894.\n",
      "- ...2 and 4 is 2.1213203435596424.\n",
      "- ...3 and 4 is 0.7071067811865475.\n"
     ]
    }
   ],
   "source": [
    "n, d = A.shape\n",
    "print(\"Euclidean distance between points...\")\n",
    "visited = []\n",
    "for i in range(n):\n",
    "    for j in range(n):\n",
    "        if (j, i) not in visited:\n",
    "            visited.append((i, j))\n",
    "            if j != i:\n",
    "                x = X[i,:].T\n",
    "                y = X[j,:].T\n",
    "                print(\"- ...{} and {} is {}.\".format(i+1, j+1, euclidean(x, y)))"
   ]
  },
  {
   "cell_type": "markdown",
   "metadata": {},
   "source": [
    "### iv."
   ]
  },
  {
   "cell_type": "markdown",
   "metadata": {},
   "source": [
    "All the pairwise distances are the same with the original data set and the 2d transfomed representation. This is of course the case because the 2d transformed representation corresponds to the original data set's point cloud, only with different mean location (origin) and direction of maximum variance (x-axis). This can be easily seen from the figure below.\n",
    "\n",
    "The 1d representation lies on x axis and has the zero distances between poits 1-2 and 3-4 because like in the original data, the distance between these points is zero when we only consider the x axis. The other distances on the other hand are the same as the distances between original data set's points 1-3 and 2-4. This too can be easily seen from the figure below."
   ]
  },
  {
   "cell_type": "code",
   "execution_count": 16,
   "metadata": {},
   "outputs": [
    {
     "data": {
      "image/png": "[encoded data removed]",
      "text/plain": [
       "<Figure size 360x360 with 1 Axes>"
      ]
     },
     "metadata": {
      "needs_background": "light"
     },
     "output_type": "display_data"
    }
   ],
   "source": [
    "fig, ax = plt.subplots(1, 1, figsize=(5,5));\n",
    "ax.plot(A[:, 0], A[:, 1], 'bo', label='original')\n",
    "ax.plot(X[:, 0], X[:, 1], 'ro', label='2d representation')\n",
    "ax.plot(x1d, [0,0,0,0], 'ko', label='1d representation')\n",
    "ax.legend()\n",
    "fig.tight_layout()"
   ]
  },
  {
   "cell_type": "markdown",
   "metadata": {},
   "source": [
    "## d)\n",
    "\n",
    "#### Repeat exercises 3a and 3b on these data. What are the similarities and differences between the results on this data set and the first one?"
   ]
  },
  {
   "cell_type": "markdown",
   "metadata": {},
   "source": [
    "Define the new data:"
   ]
  },
  {
   "cell_type": "code",
   "execution_count": 17,
   "metadata": {},
   "outputs": [
    {
     "data": {
      "text/plain": [
       "array([[0.70710678, 0.70710678],\n",
       "       [0.70710678, 1.41421356],\n",
       "       [2.82842712, 0.70710678],\n",
       "       [2.82842712, 1.41421356]])"
      ]
     },
     "execution_count": 17,
     "metadata": {},
     "output_type": "execute_result"
    }
   ],
   "source": [
    "A_new = np.array([[np.sqrt(1/2),np.sqrt(1/2)],\n",
    "               [np.sqrt(1/2), 2*np.sqrt(1/2)],\n",
    "               [4*np.sqrt(1/2), np.sqrt(1/2)],\n",
    "               [4*np.sqrt(1/2), 2*np.sqrt(1/2)]])\n",
    "A_new"
   ]
  },
  {
   "cell_type": "markdown",
   "metadata": {},
   "source": [
    "Normalize new data:"
   ]
  },
  {
   "cell_type": "code",
   "execution_count": 18,
   "metadata": {},
   "outputs": [
    {
     "data": {
      "text/plain": [
       "array([[-1.06066017, -0.35355339],\n",
       "       [-1.06066017,  0.35355339],\n",
       "       [ 1.06066017, -0.35355339],\n",
       "       [ 1.06066017,  0.35355339]])"
      ]
     },
     "execution_count": 18,
     "metadata": {},
     "output_type": "execute_result"
    }
   ],
   "source": [
    "# Center the data around its mean\n",
    "rows, columns = A_new.shape\n",
    "A_tilde_new = np.ones_like(A_new)\n",
    "\n",
    "for c in range(columns):\n",
    "    c_mean = np.mean(A_new[:, c])\n",
    "    c_std = np.std(A_new[:, c])\n",
    "    for r in range(rows):\n",
    "        A_tilde_new[r, c] = (A_new[r, c] - c_mean)\n",
    "        \n",
    "A_tilde_new"
   ]
  },
  {
   "cell_type": "code",
   "execution_count": 19,
   "metadata": {},
   "outputs": [
    {
     "data": {
      "text/plain": [
       "0.0"
      ]
     },
     "execution_count": 19,
     "metadata": {},
     "output_type": "execute_result"
    }
   ],
   "source": [
    "A_tilde_new.mean()"
   ]
  },
  {
   "cell_type": "markdown",
   "metadata": {},
   "source": [
    "Normalized data seems different than with the original data but is similar with original data's 2d representation. The mean is naturally zero for both of these. \n",
    "\n",
    "Compute the covariance matrix for new data:"
   ]
  },
  {
   "cell_type": "code",
   "execution_count": 20,
   "metadata": {},
   "outputs": [
    {
     "data": {
      "text/plain": [
       "array([[1.5       , 0.        ],\n",
       "       [0.        , 0.16666667]])"
      ]
     },
     "execution_count": 20,
     "metadata": {},
     "output_type": "execute_result"
    }
   ],
   "source": [
    "# compute the empirical covariance matrix\n",
    "n, d = A_tilde_new.shape\n",
    "S_new = (A_tilde_new.T @ A_tilde_new) / (n - 1)\n",
    "S_new"
   ]
  },
  {
   "cell_type": "markdown",
   "metadata": {},
   "source": [
    "Different covariance matrix than the original data's covariance matrix. The diagonal values match with the original data's eigenvalues though.\n",
    "\n",
    "Computing the eigenvalue decomposition for the new data:"
   ]
  },
  {
   "cell_type": "code",
   "execution_count": 21,
   "metadata": {},
   "outputs": [
    {
     "data": {
      "text/plain": [
       "array([[1., 0.],\n",
       "       [0., 1.]])"
      ]
     },
     "execution_count": 21,
     "metadata": {},
     "output_type": "execute_result"
    }
   ],
   "source": [
    "# Computing the eigenvalue decomposition of S\n",
    "eigenvals_new, eigenvects_new = np.linalg.eig(S_new)\n",
    "eigenvects_new"
   ]
  },
  {
   "cell_type": "code",
   "execution_count": 22,
   "metadata": {},
   "outputs": [
    {
     "data": {
      "text/plain": [
       "array([1.5       , 0.16666667])"
      ]
     },
     "execution_count": 22,
     "metadata": {},
     "output_type": "execute_result"
    }
   ],
   "source": [
    "eigenvals_new"
   ]
  },
  {
   "cell_type": "markdown",
   "metadata": {},
   "source": [
    "Eigenvectors are unit vectors to both x and y axis directions. The eigenvalues are the same with both of the data sets.\n",
    "\n",
    "Computing the 1d representation for the new data set:"
   ]
  },
  {
   "cell_type": "code",
   "execution_count": 23,
   "metadata": {},
   "outputs": [
    {
     "data": {
      "text/plain": [
       "array([-0.5, -1. ,  1. ,  0.5])"
      ]
     },
     "execution_count": 23,
     "metadata": {},
     "output_type": "execute_result"
    }
   ],
   "source": [
    "# The 1-dim representation x1d_new\n",
    "v_new = eigenvects_new[:, 0]\n",
    "x1d_new = A_tilde @ v_new\n",
    "x1d_new"
   ]
  },
  {
   "cell_type": "markdown",
   "metadata": {},
   "source": [
    "Same as with original data.\n",
    "\n",
    "Computing the variance:"
   ]
  },
  {
   "cell_type": "code",
   "execution_count": 24,
   "metadata": {},
   "outputs": [
    {
     "data": {
      "text/plain": [
       "0.8333333333333334"
      ]
     },
     "execution_count": 24,
     "metadata": {},
     "output_type": "execute_result"
    }
   ],
   "source": [
    "# Check the variance of the 1-dim representation x1d_new\n",
    "mu_new = np.sum(x1d_new) / n\n",
    "var_new = np.sum((x1d_new - mu_new)**2) / (n - 1)\n",
    "var_new"
   ]
  },
  {
   "cell_type": "markdown",
   "metadata": {},
   "source": [
    "Same with original data, the first eigenvalue of the new data and the first eigenvalue of the original data.\n",
    "\n",
    "Computing the 2-dim representation:"
   ]
  },
  {
   "cell_type": "code",
   "execution_count": 25,
   "metadata": {},
   "outputs": [
    {
     "data": {
      "text/plain": [
       "array([[-1.06066017, -0.35355339],\n",
       "       [-1.06066017,  0.35355339],\n",
       "       [ 1.06066017, -0.35355339],\n",
       "       [ 1.06066017,  0.35355339]])"
      ]
     },
     "execution_count": 25,
     "metadata": {},
     "output_type": "execute_result"
    }
   ],
   "source": [
    "# The 2-dim representation X\n",
    "X_new = A_tilde_new @ eigenvects_new\n",
    "X_new"
   ]
  },
  {
   "cell_type": "markdown",
   "metadata": {},
   "source": [
    "Same as the normalized new data and the 2d representation of the original data.\n",
    "\n",
    "The variances will be same too as the 2d representation's variances but compute them anyway:"
   ]
  },
  {
   "cell_type": "code",
   "execution_count": 26,
   "metadata": {},
   "outputs": [
    {
     "name": "stdout",
     "output_type": "stream",
     "text": [
      "The variance of the column no. 1 is 1.5000000000000002\n",
      "The variance of the column no. 2 is 0.1666666666666667\n"
     ]
    }
   ],
   "source": [
    "# Compute the variances of the columns\n",
    "for c in range(X_new.shape[1]):\n",
    "    x = X_new[:, c]\n",
    "    mu = np.sum(x) / n\n",
    "    var = np.sum((x - mu)**2) / (n - 1)\n",
    "    print(\"The variance of the column no. {} is {}\".format(c+1, var))"
   ]
  },
  {
   "cell_type": "markdown",
   "metadata": {},
   "source": [
    "####  Can you give a geometric explanation for the similarities?"
   ]
  },
  {
   "cell_type": "code",
   "execution_count": 27,
   "metadata": {},
   "outputs": [
    {
     "data": {
      "text/plain": [
       "<matplotlib.legend.Legend at 0x7f2b3ee6fac0>"
      ]
     },
     "execution_count": 27,
     "metadata": {},
     "output_type": "execute_result"
    },
    {
     "data": {
      "image/png": "[encoded data removed]",
      "text/plain": [
       "<Figure size 360x360 with 1 Axes>"
      ]
     },
     "metadata": {
      "needs_background": "light"
     },
     "output_type": "display_data"
    }
   ],
   "source": [
    "# Plotting the two data series\n",
    "fig, ax = plt.subplots(1, 1, figsize=(5,5));\n",
    "\n",
    "ax.plot(A[:, 0], A[:, 1], 'bo', label=\"Original data\")\n",
    "ax.plot(A_new[:, 0], A_new[:, 1], 'ro', label=\"New data\")\n",
    "ax.legend()"
   ]
  },
  {
   "cell_type": "markdown",
   "metadata": {},
   "source": [
    "When we plot the two data series we see that the point clouds are similar except they have a different location and orientation. This explains why they have the same 2d representation. We can also see that if the new data is only normalized, it reaches it's PCA form because already by default its orientation of maximum variance is parallel with the x-axis."
   ]
  },
  {
   "cell_type": "code",
   "execution_count": null,
   "metadata": {},
   "outputs": [],
   "source": []
  }
 ],
 "metadata": {
  "kernelspec": {
   "display_name": "Python 3",
   "language": "python",
   "name": "python3"
  },
  "language_info": {
   "codemirror_mode": {
    "name": "ipython",
    "version": 3
   },
   "file_extension": ".py",
   "mimetype": "text/x-python",
   "name": "python",
   "nbconvert_exporter": "python",
   "pygments_lexer": "ipython3",
   "version": "3.8.6"
  }
 },
 "nbformat": 4,
 "nbformat_minor": 4
}
