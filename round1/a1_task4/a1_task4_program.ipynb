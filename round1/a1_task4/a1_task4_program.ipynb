{
 "cells": [
  {
   "cell_type": "markdown",
   "metadata": {},
   "source": [
    "# Arttu Häkkinen\n",
    "# 596077"
   ]
  },
  {
   "cell_type": "code",
   "execution_count": 1,
   "metadata": {},
   "outputs": [],
   "source": [
    "import pandas as pd   \n",
    "import numpy as np\n",
    "import matplotlib.pyplot as plt"
   ]
  },
  {
   "cell_type": "code",
   "execution_count": 2,
   "metadata": {},
   "outputs": [
    {
     "data": {
      "text/html": [
       "<div>\n",
       "<style scoped>\n",
       "    .dataframe tbody tr th:only-of-type {\n",
       "        vertical-align: middle;\n",
       "    }\n",
       "\n",
       "    .dataframe tbody tr th {\n",
       "        vertical-align: top;\n",
       "    }\n",
       "\n",
       "    .dataframe thead th {\n",
       "        text-align: right;\n",
       "    }\n",
       "</style>\n",
       "<table border=\"1\" class=\"dataframe\">\n",
       "  <thead>\n",
       "    <tr style=\"text-align: right;\">\n",
       "      <th></th>\n",
       "      <th>name</th>\n",
       "      <th>race</th>\n",
       "      <th>age</th>\n",
       "      <th>milk/d</th>\n",
       "      <th>character</th>\n",
       "      <th>music</th>\n",
       "    </tr>\n",
       "  </thead>\n",
       "  <tbody>\n",
       "    <tr>\n",
       "      <th>0</th>\n",
       "      <td>Clover</td>\n",
       "      <td>Holstein</td>\n",
       "      <td>2.0</td>\n",
       "      <td>20.0</td>\n",
       "      <td>lively</td>\n",
       "      <td>rock</td>\n",
       "    </tr>\n",
       "    <tr>\n",
       "      <th>1</th>\n",
       "      <td>Sunny</td>\n",
       "      <td>Ayrshire</td>\n",
       "      <td>2.0</td>\n",
       "      <td>10.0</td>\n",
       "      <td>kind</td>\n",
       "      <td>rock</td>\n",
       "    </tr>\n",
       "    <tr>\n",
       "      <th>2</th>\n",
       "      <td>Rose</td>\n",
       "      <td>Holstein</td>\n",
       "      <td>5.0</td>\n",
       "      <td>15.0</td>\n",
       "      <td>calm</td>\n",
       "      <td>country</td>\n",
       "    </tr>\n",
       "    <tr>\n",
       "      <th>3</th>\n",
       "      <td>Daisy</td>\n",
       "      <td>Ayrshire</td>\n",
       "      <td>4.0</td>\n",
       "      <td>25.0</td>\n",
       "      <td>calm</td>\n",
       "      <td>classical</td>\n",
       "    </tr>\n",
       "    <tr>\n",
       "      <th>4</th>\n",
       "      <td>Strawberry</td>\n",
       "      <td>Finncattle</td>\n",
       "      <td>7.0</td>\n",
       "      <td>35.0</td>\n",
       "      <td>calm</td>\n",
       "      <td>classical</td>\n",
       "    </tr>\n",
       "    <tr>\n",
       "      <th>5</th>\n",
       "      <td>Molly</td>\n",
       "      <td>Ayrshire</td>\n",
       "      <td>8.0</td>\n",
       "      <td>45.0</td>\n",
       "      <td>kind</td>\n",
       "      <td>country</td>\n",
       "    </tr>\n",
       "  </tbody>\n",
       "</table>\n",
       "</div>"
      ],
      "text/plain": [
       "         name        race  age  milk/d character      music\n",
       "0      Clover    Holstein  2.0    20.0    lively       rock\n",
       "1       Sunny    Ayrshire  2.0    10.0      kind       rock\n",
       "2        Rose    Holstein  5.0    15.0      calm    country\n",
       "3       Daisy    Ayrshire  4.0    25.0      calm  classical\n",
       "4  Strawberry  Finncattle  7.0    35.0      calm  classical\n",
       "5       Molly    Ayrshire  8.0    45.0      kind    country"
      ]
     },
     "execution_count": 2,
     "metadata": {},
     "output_type": "execute_result"
    }
   ],
   "source": [
    "columns={'name': ['Clover', 'Sunny', 'Rose', 'Daisy', 'Strawberry', 'Molly'],\n",
    "         'race': ['Holstein', 'Ayrshire', 'Holstein', 'Ayrshire', 'Finncattle', 'Ayrshire'],\n",
    "         'age': [2.0, 2.0, 5.0, 4.0, 7.0, 8.0],\n",
    "         'milk/d': [20.0, 10.0, 15.0, 25.0, 35.0, 45.0],\n",
    "         'character': ['lively', 'kind', 'calm', 'calm', 'calm', 'kind'],\n",
    "         'music': ['rock', 'rock', 'country', 'classical', 'classical', 'country']}\n",
    "table = pd.DataFrame(columns)\n",
    "table"
   ]
  },
  {
   "cell_type": "markdown",
   "metadata": {},
   "source": [
    "## a)"
   ]
  },
  {
   "cell_type": "code",
   "execution_count": 3,
   "metadata": {},
   "outputs": [
    {
     "data": {
      "text/html": [
       "<div>\n",
       "<style scoped>\n",
       "    .dataframe tbody tr th:only-of-type {\n",
       "        vertical-align: middle;\n",
       "    }\n",
       "\n",
       "    .dataframe tbody tr th {\n",
       "        vertical-align: top;\n",
       "    }\n",
       "\n",
       "    .dataframe thead th {\n",
       "        text-align: right;\n",
       "    }\n",
       "</style>\n",
       "<table border=\"1\" class=\"dataframe\">\n",
       "  <thead>\n",
       "    <tr style=\"text-align: right;\">\n",
       "      <th></th>\n",
       "      <th>name</th>\n",
       "      <th>race</th>\n",
       "      <th>age</th>\n",
       "      <th>milk/d</th>\n",
       "      <th>character</th>\n",
       "      <th>music</th>\n",
       "    </tr>\n",
       "  </thead>\n",
       "  <tbody>\n",
       "    <tr>\n",
       "      <th>0</th>\n",
       "      <td>Clover</td>\n",
       "      <td>Holstein</td>\n",
       "      <td>0.000000</td>\n",
       "      <td>0.285714</td>\n",
       "      <td>lively</td>\n",
       "      <td>rock</td>\n",
       "    </tr>\n",
       "    <tr>\n",
       "      <th>1</th>\n",
       "      <td>Sunny</td>\n",
       "      <td>Ayrshire</td>\n",
       "      <td>0.000000</td>\n",
       "      <td>0.000000</td>\n",
       "      <td>kind</td>\n",
       "      <td>rock</td>\n",
       "    </tr>\n",
       "    <tr>\n",
       "      <th>2</th>\n",
       "      <td>Rose</td>\n",
       "      <td>Holstein</td>\n",
       "      <td>0.500000</td>\n",
       "      <td>0.142857</td>\n",
       "      <td>calm</td>\n",
       "      <td>country</td>\n",
       "    </tr>\n",
       "    <tr>\n",
       "      <th>3</th>\n",
       "      <td>Daisy</td>\n",
       "      <td>Ayrshire</td>\n",
       "      <td>0.333333</td>\n",
       "      <td>0.428571</td>\n",
       "      <td>calm</td>\n",
       "      <td>classical</td>\n",
       "    </tr>\n",
       "    <tr>\n",
       "      <th>4</th>\n",
       "      <td>Strawberry</td>\n",
       "      <td>Finncattle</td>\n",
       "      <td>0.833333</td>\n",
       "      <td>0.714286</td>\n",
       "      <td>calm</td>\n",
       "      <td>classical</td>\n",
       "    </tr>\n",
       "    <tr>\n",
       "      <th>5</th>\n",
       "      <td>Molly</td>\n",
       "      <td>Ayrshire</td>\n",
       "      <td>1.000000</td>\n",
       "      <td>1.000000</td>\n",
       "      <td>kind</td>\n",
       "      <td>country</td>\n",
       "    </tr>\n",
       "  </tbody>\n",
       "</table>\n",
       "</div>"
      ],
      "text/plain": [
       "         name        race       age    milk/d character      music\n",
       "0      Clover    Holstein  0.000000  0.285714    lively       rock\n",
       "1       Sunny    Ayrshire  0.000000  0.000000      kind       rock\n",
       "2        Rose    Holstein  0.500000  0.142857      calm    country\n",
       "3       Daisy    Ayrshire  0.333333  0.428571      calm  classical\n",
       "4  Strawberry  Finncattle  0.833333  0.714286      calm  classical\n",
       "5       Molly    Ayrshire  1.000000  1.000000      kind    country"
      ]
     },
     "execution_count": 3,
     "metadata": {},
     "output_type": "execute_result"
    }
   ],
   "source": [
    "# Helper function for minmax scaling\n",
    "def minmax_scale(x):\n",
    "    y = np.zeros_like(x)\n",
    "    for i, x_i in enumerate(x):\n",
    "        y[i] = (x_i - np.min(x)) / (np.max(x) - np.min(x))\n",
    "    return y\n",
    "\n",
    "# Scale the numerical features age and milk/d\n",
    "table['age'] = minmax_scale(table['age'].values)\n",
    "table['milk/d'] = minmax_scale(table['milk/d'].values)\n",
    "table"
   ]
  },
  {
   "cell_type": "code",
   "execution_count": 4,
   "metadata": {},
   "outputs": [
    {
     "name": "stdout",
     "output_type": "stream",
     "text": [
      "Pairwise Euclidean distances between cows...\n",
      "- ...Clover and Sunny is 0.29.\n",
      "- ...Clover and Rose is 0.52.\n",
      "- ...Clover and Daisy is 0.36.\n",
      "- ...Clover and Strawberry is 0.94.\n",
      "- ...Clover and Molly is 1.23.\n",
      "- ...Sunny and Rose is 0.52.\n",
      "- ...Sunny and Daisy is 0.54.\n",
      "- ...Sunny and Strawberry is 1.1.\n",
      "- ...Sunny and Molly is 1.41.\n",
      "- ...Rose and Daisy is 0.33.\n",
      "- ...Rose and Strawberry is 0.66.\n",
      "- ...Rose and Molly is 0.99.\n",
      "- ...Daisy and Strawberry is 0.58.\n",
      "- ...Daisy and Molly is 0.88.\n",
      "- ...Strawberry and Molly is 0.33.\n"
     ]
    }
   ],
   "source": [
    "# Calculating pairwise Euclidean distances between cows\n",
    "def euclidean(x, y):\n",
    "    return np.round(np.sqrt(np.sum((x-y)**2)), 2)\n",
    "\n",
    "numsim = {} # Dict to store the similarities in\n",
    "A = table[['age', 'milk/d']].values\n",
    "cows = list(table.name.values)\n",
    "n, d = A.shape\n",
    "print(\"Pairwise Euclidean distances between cows...\")\n",
    "visited = []\n",
    "for i in range(n):\n",
    "    for j in range(n):\n",
    "        if (j, i) not in visited:\n",
    "            visited.append((i, j))\n",
    "            if j != i:\n",
    "                x = A[i,:].T\n",
    "                y = A[j,:].T\n",
    "                print(\"- ...{} and {} is {}.\".format(cows[i], cows[j], euclidean(x, y)))\n",
    "                \n",
    "                # Add to the dict so that we can use the calculated distances later...\n",
    "                numsim[(cows[i], cows[j])] = euclidean(x, y)"
   ]
  },
  {
   "cell_type": "markdown",
   "metadata": {},
   "source": [
    "## b)"
   ]
  },
  {
   "cell_type": "markdown",
   "metadata": {},
   "source": [
    "Defining Goodall similarity distance measure\n",
    "\n",
    "$$ d_G = 1 - G = 1 - \\dfrac{\\sum_{A_i shared}(1 - p_i^2(shared))}{d}$$\n",
    "\n",
    "where $d$ is the number of features and $p_i^2(shared)$ is the squared ratio of the pairs' shared feature value in its column (e.g. ratio of Holstein in race column is 2/6)."
   ]
  },
  {
   "cell_type": "code",
   "execution_count": 5,
   "metadata": {},
   "outputs": [
    {
     "data": {
      "text/html": [
       "<div>\n",
       "<style scoped>\n",
       "    .dataframe tbody tr th:only-of-type {\n",
       "        vertical-align: middle;\n",
       "    }\n",
       "\n",
       "    .dataframe tbody tr th {\n",
       "        vertical-align: top;\n",
       "    }\n",
       "\n",
       "    .dataframe thead th {\n",
       "        text-align: right;\n",
       "    }\n",
       "</style>\n",
       "<table border=\"1\" class=\"dataframe\">\n",
       "  <thead>\n",
       "    <tr style=\"text-align: right;\">\n",
       "      <th></th>\n",
       "      <th>race</th>\n",
       "      <th>character</th>\n",
       "      <th>music</th>\n",
       "    </tr>\n",
       "    <tr>\n",
       "      <th>name</th>\n",
       "      <th></th>\n",
       "      <th></th>\n",
       "      <th></th>\n",
       "    </tr>\n",
       "  </thead>\n",
       "  <tbody>\n",
       "    <tr>\n",
       "      <th>Clover</th>\n",
       "      <td>Holstein</td>\n",
       "      <td>lively</td>\n",
       "      <td>rock</td>\n",
       "    </tr>\n",
       "    <tr>\n",
       "      <th>Sunny</th>\n",
       "      <td>Ayrshire</td>\n",
       "      <td>kind</td>\n",
       "      <td>rock</td>\n",
       "    </tr>\n",
       "    <tr>\n",
       "      <th>Rose</th>\n",
       "      <td>Holstein</td>\n",
       "      <td>calm</td>\n",
       "      <td>country</td>\n",
       "    </tr>\n",
       "    <tr>\n",
       "      <th>Daisy</th>\n",
       "      <td>Ayrshire</td>\n",
       "      <td>calm</td>\n",
       "      <td>classical</td>\n",
       "    </tr>\n",
       "    <tr>\n",
       "      <th>Strawberry</th>\n",
       "      <td>Finncattle</td>\n",
       "      <td>calm</td>\n",
       "      <td>classical</td>\n",
       "    </tr>\n",
       "    <tr>\n",
       "      <th>Molly</th>\n",
       "      <td>Ayrshire</td>\n",
       "      <td>kind</td>\n",
       "      <td>country</td>\n",
       "    </tr>\n",
       "  </tbody>\n",
       "</table>\n",
       "</div>"
      ],
      "text/plain": [
       "                  race character      music\n",
       "name                                       \n",
       "Clover        Holstein    lively       rock\n",
       "Sunny         Ayrshire      kind       rock\n",
       "Rose          Holstein      calm    country\n",
       "Daisy         Ayrshire      calm  classical\n",
       "Strawberry  Finncattle      calm  classical\n",
       "Molly         Ayrshire      kind    country"
      ]
     },
     "execution_count": 5,
     "metadata": {},
     "output_type": "execute_result"
    }
   ],
   "source": [
    "data = table.set_index('name')[['race', 'character', 'music']]\n",
    "data"
   ]
  },
  {
   "cell_type": "code",
   "execution_count": 6,
   "metadata": {},
   "outputs": [
    {
     "name": "stdout",
     "output_type": "stream",
     "text": [
      "Pairwise Goodall distances between cows...\n",
      "- ...Clover and Sunny is 0.7037037037037037.\n",
      "- ...Clover and Rose is 0.7037037037037037.\n",
      "- ...Clover and Daisy is 1.0.\n",
      "- ...Clover and Strawberry is 1.0.\n",
      "- ...Clover and Molly is 1.0.\n",
      "- ...Sunny and Rose is 1.0.\n",
      "- ...Sunny and Daisy is 0.75.\n",
      "- ...Sunny and Strawberry is 1.0.\n",
      "- ...Sunny and Molly is 0.4537037037037037.\n",
      "- ...Rose and Daisy is 0.75.\n",
      "- ...Rose and Strawberry is 0.75.\n",
      "- ...Rose and Molly is 0.7037037037037037.\n",
      "- ...Daisy and Strawberry is 0.4537037037037037.\n",
      "- ...Daisy and Molly is 0.75.\n",
      "- ...Strawberry and Molly is 1.0.\n"
     ]
    }
   ],
   "source": [
    "catsim = {} # Dict to store the similarities in\n",
    "n, d = data.shape\n",
    "visited = []\n",
    "\n",
    "print(\"Pairwise Goodall distances between cows...\")\n",
    "\n",
    "for cow1 in data.index.values:\n",
    "    \n",
    "    # Get the feature values for the cow1\n",
    "    race1 = data.loc[cow1, 'race']\n",
    "    char1 = data.loc[cow1, 'character']\n",
    "    music1 = data.loc[cow1, 'music']\n",
    "    \n",
    "    # Count the ratios of the occurences\n",
    "    p_race = data.race.value_counts()[race1] / n\n",
    "    p_char = data.character.value_counts()[char1] / n\n",
    "    p_music = data.music.value_counts()[music1] / n\n",
    "    \n",
    "    for cow2 in data.index.values:\n",
    "        \n",
    "        if (cow2, cow1) not in visited:\n",
    "            visited.append((cow1, cow2))\n",
    "            \n",
    "            # GEt the feature values for cow2\n",
    "            if cow1 != cow2:\n",
    "                race2 = data.loc[cow2, 'race']\n",
    "                char2 = data.loc[cow2, 'character']\n",
    "                music2 = data.loc[cow2, 'music']\n",
    "                num = 0\n",
    "                \n",
    "                # If the pair shares some feature value, add 1 - p_i(shared)^2\n",
    "                # to the numerator sum\n",
    "                if race1 == race2:\n",
    "                    num += (1 - p_race**2)\n",
    "                if char1 == char2:\n",
    "                    num += (1 - p_char**2)\n",
    "                if music1 == music2:\n",
    "                    num += (1 - p_music**2)\n",
    "                \n",
    "                # Do the rest of the calculations needed\n",
    "                G = num / d\n",
    "                dist = 1 - G\n",
    "                \n",
    "                # Print the pairwise distance of the pair\n",
    "                print(\"- ...{} and {} is {}.\".format(cow1, cow2, dist))\n",
    "                \n",
    "                 # Add to the dict so that we can use the calculated distances later...\n",
    "                catsim[(cow1, cow2)] = dist"
   ]
  },
  {
   "cell_type": "markdown",
   "metadata": {},
   "source": [
    "## c)"
   ]
  },
  {
   "cell_type": "markdown",
   "metadata": {},
   "source": [
    "We stored the pairwise similarities in two dictionaries earlier:"
   ]
  },
  {
   "cell_type": "code",
   "execution_count": 7,
   "metadata": {},
   "outputs": [
    {
     "data": {
      "text/plain": [
       "{('Clover', 'Sunny'): 0.29,\n",
       " ('Clover', 'Rose'): 0.52,\n",
       " ('Clover', 'Daisy'): 0.36,\n",
       " ('Clover', 'Strawberry'): 0.94,\n",
       " ('Clover', 'Molly'): 1.23,\n",
       " ('Sunny', 'Rose'): 0.52,\n",
       " ('Sunny', 'Daisy'): 0.54,\n",
       " ('Sunny', 'Strawberry'): 1.1,\n",
       " ('Sunny', 'Molly'): 1.41,\n",
       " ('Rose', 'Daisy'): 0.33,\n",
       " ('Rose', 'Strawberry'): 0.66,\n",
       " ('Rose', 'Molly'): 0.99,\n",
       " ('Daisy', 'Strawberry'): 0.58,\n",
       " ('Daisy', 'Molly'): 0.88,\n",
       " ('Strawberry', 'Molly'): 0.33}"
      ]
     },
     "execution_count": 7,
     "metadata": {},
     "output_type": "execute_result"
    }
   ],
   "source": [
    "numsim"
   ]
  },
  {
   "cell_type": "code",
   "execution_count": 8,
   "metadata": {},
   "outputs": [
    {
     "data": {
      "text/plain": [
       "{('Clover', 'Sunny'): 0.7037037037037037,\n",
       " ('Clover', 'Rose'): 0.7037037037037037,\n",
       " ('Clover', 'Daisy'): 1.0,\n",
       " ('Clover', 'Strawberry'): 1.0,\n",
       " ('Clover', 'Molly'): 1.0,\n",
       " ('Sunny', 'Rose'): 1.0,\n",
       " ('Sunny', 'Daisy'): 0.75,\n",
       " ('Sunny', 'Strawberry'): 1.0,\n",
       " ('Sunny', 'Molly'): 0.4537037037037037,\n",
       " ('Rose', 'Daisy'): 0.75,\n",
       " ('Rose', 'Strawberry'): 0.75,\n",
       " ('Rose', 'Molly'): 0.7037037037037037,\n",
       " ('Daisy', 'Strawberry'): 0.4537037037037037,\n",
       " ('Daisy', 'Molly'): 0.75,\n",
       " ('Strawberry', 'Molly'): 1.0}"
      ]
     },
     "execution_count": 8,
     "metadata": {},
     "output_type": "execute_result"
    }
   ],
   "source": [
    "catsim"
   ]
  },
  {
   "cell_type": "markdown",
   "metadata": {},
   "source": [
    "Using the following equation to get the combined distance measure:\n",
    "\n",
    "$$ Sim(x, y) = \\dfrac{\\lambda * L_2(x_{num}, y_{num})}{\\sigma_{num}} + \\dfrac{(1-\\lambda) * d_G(x_{cat}, y_{cat})}{\\sigma_{cat}}$$\n",
    "\n",
    "where $\\sigma_{num}$ and $\\sigma_{cat}$ are the standard deviations of the similarity values in the categorical and numerical components, respectively.\n",
    "\n",
    "A natural choice is to use a value of $\\lambda$ that is equal to the fraction of numerical attributes in the data (Aggarwal sec. 3.2.3)."
   ]
  },
  {
   "cell_type": "code",
   "execution_count": 9,
   "metadata": {},
   "outputs": [
    {
     "name": "stdout",
     "output_type": "stream",
     "text": [
      "Pairwise distances with the combined measure between cows...\n",
      "- ...Clover and Sunny is 2.6095240334555116.\n",
      "- ...Clover and Rose is 2.876530024375005.\n",
      "- ...Clover and Daisy is 3.647782223512226.\n",
      "- ...Clover and Strawberry is 4.3211016788744265.\n",
      "- ...Clover and Molly is 4.657761406555527.\n",
      "- ...Sunny and Rose is 3.833525521543178.\n",
      "- ...Sunny and Daisy is 3.049278483061401.\n",
      "- ...Sunny and Strawberry is 4.506844976905379.\n",
      "- ...Sunny and Molly is 3.1022621689365284.\n",
      "- ...Rose and Daisy is 2.8054904043957762.\n",
      "- ...Rose and Strawberry is 3.188585956584615.\n",
      "- ...Rose and Molly is 3.4221509623409263.\n",
      "- ...Daisy and Strawberry is 2.138718810400966.\n",
      "- ...Daisy and Molly is 3.4439829913771733.\n",
      "- ...Strawberry and Molly is 3.6129553551314224.\n"
     ]
    }
   ],
   "source": [
    "combsim = {}\n",
    "\n",
    "lambda_ = 2 / 5\n",
    "sigma_num = np.std(list(numsim.values()))\n",
    "sigma_cat = np.std(list(catsim.values()))\n",
    "\n",
    "print(\"Pairwise distances with the combined measure between cows...\")\n",
    "for pair in numsim.keys():\n",
    "    \n",
    "    cow1, cow2 = pair\n",
    "    L2 = numsim[pair]\n",
    "    dG = catsim[pair]\n",
    "    sim = ((lambda_ * L2) / sigma_num) + (((1 - lambda_) * dG) / sigma_cat)\n",
    "    combsim[pair] = sim\n",
    "    \n",
    "    print(\"- ...{} and {} is {}.\".format(cow1, cow2, sim))"
   ]
  },
  {
   "cell_type": "markdown",
   "metadata": {},
   "source": [
    "## d)\n",
    "\n",
    "### i)"
   ]
  },
  {
   "cell_type": "code",
   "execution_count": 59,
   "metadata": {},
   "outputs": [
    {
     "data": {
      "text/plain": [
       "Text(0.5, 1.0, 'Combined (c)')"
      ]
     },
     "execution_count": 59,
     "metadata": {},
     "output_type": "execute_result"
    },
    {
     "data": {
      "image/png": "[encoded data removed]",
      "text/plain": [
       "<Figure size 720x360 with 3 Axes>"
      ]
     },
     "metadata": {
      "needs_background": "light"
     },
     "output_type": "display_data"
    }
   ],
   "source": [
    "# bins\n",
    "b = 12\n",
    "\n",
    "num = list(numsim.values())\n",
    "cat = list(catsim.values())\n",
    "comb = list(combsim.values())\n",
    "\n",
    "fig, ax = plt.subplots(1, 3, figsize=(10,5))\n",
    "\n",
    "ax[0].hist(num, bins=b)\n",
    "ax[0].set_title('Euclidean (a)')\n",
    "\n",
    "ax[1].hist(cat, bins=b)\n",
    "ax[1].set_title('Goodall (b)')\n",
    "\n",
    "ax[2].hist(comb, bins=b)\n",
    "ax[2].set_title('Combined (c)')"
   ]
  },
  {
   "cell_type": "markdown",
   "metadata": {},
   "source": [
    "Based on this, the best measure to cluster the cows would be the method we used in part b. There we calculated pairwise Goodall distances for categorical variables. When using 12 bins, it is clear to see three separate clusters in the above middle plot."
   ]
  },
  {
   "cell_type": "markdown",
   "metadata": {},
   "source": [
    "### ii)"
   ]
  },
  {
   "cell_type": "markdown",
   "metadata": {},
   "source": [
    "#### a)"
   ]
  },
  {
   "cell_type": "code",
   "execution_count": 3,
   "metadata": {},
   "outputs": [
    {
     "data": {
      "image/jpeg": "[encoded data removed]",
      "text/plain": [
       "<IPython.core.display.Image object>"
      ]
     },
     "execution_count": 3,
     "metadata": {},
     "output_type": "execute_result"
    }
   ],
   "source": [
    "from IPython.display import Image\n",
    "Image(filename='clustering_a.jpg')"
   ]
  },
  {
   "cell_type": "markdown",
   "metadata": {},
   "source": [
    "#### b)"
   ]
  },
  {
   "cell_type": "code",
   "execution_count": 4,
   "metadata": {},
   "outputs": [
    {
     "data": {
      "image/jpeg": "[encoded data removed]",
      "text/plain": [
       "<IPython.core.display.Image object>"
      ]
     },
     "execution_count": 4,
     "metadata": {},
     "output_type": "execute_result"
    }
   ],
   "source": [
    "from IPython.display import Image\n",
    "Image(filename='clustering_b.jpg')"
   ]
  },
  {
   "cell_type": "markdown",
   "metadata": {},
   "source": [
    "#### c)"
   ]
  },
  {
   "cell_type": "code",
   "execution_count": 5,
   "metadata": {},
   "outputs": [
    {
     "data": {
      "image/jpeg": "[encoded data removed]",
      "text/plain": [
       "<IPython.core.display.Image object>"
      ]
     },
     "execution_count": 5,
     "metadata": {},
     "output_type": "execute_result"
    }
   ],
   "source": [
    "from IPython.display import Image\n",
    "Image(filename='clustering_c.jpg')"
   ]
  },
  {
   "cell_type": "markdown",
   "metadata": {},
   "source": [
    "#### Answer:\n",
    "\n",
    "Measure (a) produced the best clustering with this graph clustering method. This is because the most amount of edges/connections were preserved while achieving the two connected components via the longest distance edge removal procedure. In other words, the two clusters seem the clearest in measure a's edge-node graph."
   ]
  },
  {
   "cell_type": "code",
   "execution_count": null,
   "metadata": {},
   "outputs": [],
   "source": []
  }
 ],
 "metadata": {
  "kernelspec": {
   "display_name": "Python 3",
   "language": "python",
   "name": "python3"
  },
  "language_info": {
   "codemirror_mode": {
    "name": "ipython",
    "version": 3
   },
   "file_extension": ".py",
   "mimetype": "text/x-python",
   "name": "python",
   "nbconvert_exporter": "python",
   "pygments_lexer": "ipython3",
   "version": "3.8.6"
  }
 },
 "nbformat": 4,
 "nbformat_minor": 4
}
