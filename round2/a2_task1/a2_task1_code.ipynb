{
 "cells": [
  {
   "cell_type": "code",
   "execution_count": 1,
   "metadata": {},
   "outputs": [],
   "source": [
    "import pandas as pd\n",
    "import numpy as np\n",
    "import matplotlib.pyplot as plt\n",
    "from sklearn.cluster import AgglomerativeClustering\n",
    "from sklearn.metrics import silhouette_score\n",
    "from sklearn.decomposition import PCA"
   ]
  },
  {
   "cell_type": "markdown",
   "metadata": {},
   "source": [
    "# Assignment 2 - Task 1\n",
    "---------------"
   ]
  },
  {
   "cell_type": "code",
   "execution_count": 2,
   "metadata": {},
   "outputs": [
    {
     "data": {
      "text/html": [
       "<div>\n",
       "<style scoped>\n",
       "    .dataframe tbody tr th:only-of-type {\n",
       "        vertical-align: middle;\n",
       "    }\n",
       "\n",
       "    .dataframe tbody tr th {\n",
       "        vertical-align: top;\n",
       "    }\n",
       "\n",
       "    .dataframe thead th {\n",
       "        text-align: right;\n",
       "    }\n",
       "</style>\n",
       "<table border=\"1\" class=\"dataframe\">\n",
       "  <thead>\n",
       "    <tr style=\"text-align: right;\">\n",
       "      <th></th>\n",
       "      <th>liverind</th>\n",
       "      <th>heartind</th>\n",
       "      <th>appind</th>\n",
       "      <th>batind</th>\n",
       "      <th>tailind</th>\n",
       "      <th>ADWBind</th>\n",
       "      <th>gonind</th>\n",
       "      <th>BMI</th>\n",
       "    </tr>\n",
       "  </thead>\n",
       "  <tbody>\n",
       "    <tr>\n",
       "      <th>0</th>\n",
       "      <td>0.036364</td>\n",
       "      <td>0.005091</td>\n",
       "      <td>0.013636</td>\n",
       "      <td>0.001864</td>\n",
       "      <td>0.714286</td>\n",
       "      <td>0.454545</td>\n",
       "      <td>0.000000</td>\n",
       "      <td>0.199546</td>\n",
       "    </tr>\n",
       "    <tr>\n",
       "      <th>1</th>\n",
       "      <td>0.010440</td>\n",
       "      <td>0.004396</td>\n",
       "      <td>0.008791</td>\n",
       "      <td>0.000742</td>\n",
       "      <td>0.666667</td>\n",
       "      <td>0.302198</td>\n",
       "      <td>1.648659</td>\n",
       "      <td>0.478632</td>\n",
       "    </tr>\n",
       "    <tr>\n",
       "      <th>2</th>\n",
       "      <td>0.051200</td>\n",
       "      <td>0.006133</td>\n",
       "      <td>0.020800</td>\n",
       "      <td>0.001467</td>\n",
       "      <td>0.904762</td>\n",
       "      <td>0.653333</td>\n",
       "      <td>0.000000</td>\n",
       "      <td>0.340136</td>\n",
       "    </tr>\n",
       "    <tr>\n",
       "      <th>3</th>\n",
       "      <td>0.047333</td>\n",
       "      <td>0.005556</td>\n",
       "      <td>0.105111</td>\n",
       "      <td>0.002178</td>\n",
       "      <td>0.869565</td>\n",
       "      <td>0.260000</td>\n",
       "      <td>2.653242</td>\n",
       "      <td>0.340265</td>\n",
       "    </tr>\n",
       "    <tr>\n",
       "      <th>4</th>\n",
       "      <td>0.052558</td>\n",
       "      <td>0.005349</td>\n",
       "      <td>0.021628</td>\n",
       "      <td>0.001884</td>\n",
       "      <td>0.720000</td>\n",
       "      <td>0.500000</td>\n",
       "      <td>0.000000</td>\n",
       "      <td>0.275200</td>\n",
       "    </tr>\n",
       "    <tr>\n",
       "      <th>...</th>\n",
       "      <td>...</td>\n",
       "      <td>...</td>\n",
       "      <td>...</td>\n",
       "      <td>...</td>\n",
       "      <td>...</td>\n",
       "      <td>...</td>\n",
       "      <td>...</td>\n",
       "      <td>...</td>\n",
       "    </tr>\n",
       "    <tr>\n",
       "      <th>556</th>\n",
       "      <td>0.067738</td>\n",
       "      <td>0.003507</td>\n",
       "      <td>0.013552</td>\n",
       "      <td>0.002602</td>\n",
       "      <td>0.808163</td>\n",
       "      <td>0.372172</td>\n",
       "      <td>1.742219</td>\n",
       "      <td>0.736360</td>\n",
       "    </tr>\n",
       "    <tr>\n",
       "      <th>557</th>\n",
       "      <td>0.078575</td>\n",
       "      <td>0.003667</td>\n",
       "      <td>0.014667</td>\n",
       "      <td>0.001035</td>\n",
       "      <td>0.777273</td>\n",
       "      <td>0.381090</td>\n",
       "      <td>1.064711</td>\n",
       "      <td>0.788843</td>\n",
       "    </tr>\n",
       "    <tr>\n",
       "      <th>558</th>\n",
       "      <td>0.079303</td>\n",
       "      <td>0.003918</td>\n",
       "      <td>0.014760</td>\n",
       "      <td>0.001337</td>\n",
       "      <td>0.760870</td>\n",
       "      <td>0.469952</td>\n",
       "      <td>0.993252</td>\n",
       "      <td>0.786389</td>\n",
       "    </tr>\n",
       "    <tr>\n",
       "      <th>559</th>\n",
       "      <td>0.080693</td>\n",
       "      <td>0.004286</td>\n",
       "      <td>0.008803</td>\n",
       "      <td>0.001592</td>\n",
       "      <td>0.714286</td>\n",
       "      <td>0.380252</td>\n",
       "      <td>1.512927</td>\n",
       "      <td>0.793003</td>\n",
       "    </tr>\n",
       "    <tr>\n",
       "      <th>560</th>\n",
       "      <td>0.085251</td>\n",
       "      <td>0.003682</td>\n",
       "      <td>0.016144</td>\n",
       "      <td>0.001218</td>\n",
       "      <td>0.816327</td>\n",
       "      <td>0.517429</td>\n",
       "      <td>0.405465</td>\n",
       "      <td>0.764681</td>\n",
       "    </tr>\n",
       "  </tbody>\n",
       "</table>\n",
       "<p>561 rows × 8 columns</p>\n",
       "</div>"
      ],
      "text/plain": [
       "     liverind  heartind    appind    batind   tailind   ADWBind    gonind  \\\n",
       "0    0.036364  0.005091  0.013636  0.001864  0.714286  0.454545  0.000000   \n",
       "1    0.010440  0.004396  0.008791  0.000742  0.666667  0.302198  1.648659   \n",
       "2    0.051200  0.006133  0.020800  0.001467  0.904762  0.653333  0.000000   \n",
       "3    0.047333  0.005556  0.105111  0.002178  0.869565  0.260000  2.653242   \n",
       "4    0.052558  0.005349  0.021628  0.001884  0.720000  0.500000  0.000000   \n",
       "..        ...       ...       ...       ...       ...       ...       ...   \n",
       "556  0.067738  0.003507  0.013552  0.002602  0.808163  0.372172  1.742219   \n",
       "557  0.078575  0.003667  0.014667  0.001035  0.777273  0.381090  1.064711   \n",
       "558  0.079303  0.003918  0.014760  0.001337  0.760870  0.469952  0.993252   \n",
       "559  0.080693  0.004286  0.008803  0.001592  0.714286  0.380252  1.512927   \n",
       "560  0.085251  0.003682  0.016144  0.001218  0.816327  0.517429  0.405465   \n",
       "\n",
       "          BMI  \n",
       "0    0.199546  \n",
       "1    0.478632  \n",
       "2    0.340136  \n",
       "3    0.340265  \n",
       "4    0.275200  \n",
       "..        ...  \n",
       "556  0.736360  \n",
       "557  0.788843  \n",
       "558  0.786389  \n",
       "559  0.793003  \n",
       "560  0.764681  \n",
       "\n",
       "[561 rows x 8 columns]"
      ]
     },
     "execution_count": 2,
     "metadata": {},
     "output_type": "execute_result"
    }
   ],
   "source": [
    "data = pd.read_csv(\"ratdataNormChecked.csv\")\n",
    "data = data[[ \"liverind\", \"heartind\", \"appind\", \"batind\", \"tailind\", \"ADWBind\", \"gonind\", \"BMI\"]]\n",
    "data"
   ]
  },
  {
   "cell_type": "markdown",
   "metadata": {},
   "source": [
    "## a)"
   ]
  },
  {
   "cell_type": "code",
   "execution_count": 3,
   "metadata": {},
   "outputs": [],
   "source": [
    "Kvals = [2, 3, 4, 5, 6, 7, 8]"
   ]
  },
  {
   "cell_type": "code",
   "execution_count": 4,
   "metadata": {},
   "outputs": [
    {
     "data": {
      "text/plain": [
       "(0.657, 2)"
      ]
     },
     "execution_count": 4,
     "metadata": {},
     "output_type": "execute_result"
    }
   ],
   "source": [
    "# single link clustering\n",
    "best_K = None\n",
    "best_SI = -1\n",
    "for K in Kvals:\n",
    "    clustering = AgglomerativeClustering(n_clusters=K,\n",
    "                                         affinity='euclidean', \n",
    "                                         linkage='single').fit(data)\n",
    "    SI = silhouette_score(data, clustering.labels_)\n",
    "    if SI > best_SI:\n",
    "        best_K = K\n",
    "        best_SI = SI\n",
    "        \n",
    "np.round(best_SI, 3), best_K"
   ]
  },
  {
   "cell_type": "code",
   "execution_count": 5,
   "metadata": {},
   "outputs": [
    {
     "data": {
      "text/plain": [
       "{0: 560, 1: 1}"
      ]
     },
     "execution_count": 5,
     "metadata": {},
     "output_type": "execute_result"
    }
   ],
   "source": [
    "clustering = AgglomerativeClustering(n_clusters=best_K,\n",
    "                                     affinity='euclidean', \n",
    "                                     linkage='single').fit(data)\n",
    "arr = clustering.labels_\n",
    "occurences = {}\n",
    "for i in range(best_K):\n",
    "    occurences[i] = arr[arr==i].shape[0]\n",
    "occurences"
   ]
  },
  {
   "cell_type": "code",
   "execution_count": 6,
   "metadata": {},
   "outputs": [
    {
     "data": {
      "text/plain": [
       "(0.597, 2)"
      ]
     },
     "execution_count": 6,
     "metadata": {},
     "output_type": "execute_result"
    }
   ],
   "source": [
    "# complete link clustering\n",
    "best_K = None\n",
    "best_SI = -1\n",
    "for K in Kvals:\n",
    "    clustering = AgglomerativeClustering(n_clusters=K,\n",
    "                                         affinity='euclidean', \n",
    "                                         linkage='complete').fit(data)\n",
    "    SI = silhouette_score(data, clustering.labels_)\n",
    "    if SI > best_SI:\n",
    "        best_K = K\n",
    "        best_SI = SI\n",
    "        \n",
    "np.round(best_SI, 3), best_K"
   ]
  },
  {
   "cell_type": "code",
   "execution_count": 7,
   "metadata": {},
   "outputs": [
    {
     "data": {
      "text/plain": [
       "{0: 535, 1: 26}"
      ]
     },
     "execution_count": 7,
     "metadata": {},
     "output_type": "execute_result"
    }
   ],
   "source": [
    "clustering = AgglomerativeClustering(n_clusters=best_K,\n",
    "                                     affinity='euclidean', \n",
    "                                     linkage='complete').fit(data)\n",
    "arr = clustering.labels_\n",
    "occurences = {}\n",
    "for i in range(best_K):\n",
    "    occurences[i] = arr[arr==i].shape[0]\n",
    "occurences"
   ]
  },
  {
   "cell_type": "code",
   "execution_count": 8,
   "metadata": {},
   "outputs": [
    {
     "data": {
      "text/plain": [
       "(0.597, 2)"
      ]
     },
     "execution_count": 8,
     "metadata": {},
     "output_type": "execute_result"
    }
   ],
   "source": [
    "# average link clustering\n",
    "best_K = None\n",
    "best_SI = -1\n",
    "for K in Kvals:\n",
    "    clustering = AgglomerativeClustering(n_clusters=K,\n",
    "                                         affinity='euclidean', \n",
    "                                         linkage='average').fit(data)\n",
    "    SI = silhouette_score(data, clustering.labels_)\n",
    "    if SI > best_SI:\n",
    "        best_K = K\n",
    "        best_SI = SI\n",
    "        \n",
    "np.round(best_SI, 3), best_K"
   ]
  },
  {
   "cell_type": "code",
   "execution_count": 9,
   "metadata": {},
   "outputs": [
    {
     "data": {
      "text/plain": [
       "{0: 535, 1: 26}"
      ]
     },
     "execution_count": 9,
     "metadata": {},
     "output_type": "execute_result"
    }
   ],
   "source": [
    "clustering = AgglomerativeClustering(n_clusters=best_K,\n",
    "                                     affinity='euclidean', \n",
    "                                     linkage='average').fit(data)\n",
    "arr = clustering.labels_\n",
    "occurences = {}\n",
    "for i in range(best_K):\n",
    "    occurences[i] = arr[arr==i].shape[0]\n",
    "occurences"
   ]
  },
  {
   "cell_type": "code",
   "execution_count": 10,
   "metadata": {},
   "outputs": [
    {
     "data": {
      "text/plain": [
       "(0.546, 3)"
      ]
     },
     "execution_count": 10,
     "metadata": {},
     "output_type": "execute_result"
    }
   ],
   "source": [
    "# Ward's method clustering\n",
    "best_K = None\n",
    "best_SI = -1\n",
    "for K in Kvals:\n",
    "    clustering = AgglomerativeClustering(n_clusters=K,\n",
    "                                         affinity='euclidean', \n",
    "                                         linkage='ward').fit(data)\n",
    "    SI = silhouette_score(data, clustering.labels_)\n",
    "    if SI > best_SI:\n",
    "        best_K = K\n",
    "        best_SI = SI\n",
    "        \n",
    "np.round(best_SI, 3), best_K"
   ]
  },
  {
   "cell_type": "code",
   "execution_count": 11,
   "metadata": {},
   "outputs": [
    {
     "data": {
      "text/plain": [
       "{0: 302, 1: 233, 2: 26}"
      ]
     },
     "execution_count": 11,
     "metadata": {},
     "output_type": "execute_result"
    }
   ],
   "source": [
    "clustering = AgglomerativeClustering(n_clusters=best_K,\n",
    "                                     affinity='euclidean', \n",
    "                                     linkage='ward').fit(data)\n",
    "arr = clustering.labels_\n",
    "occurences = {}\n",
    "for i in range(best_K):\n",
    "    occurences[i] = arr[arr==i].shape[0]\n",
    "occurences"
   ]
  },
  {
   "cell_type": "markdown",
   "metadata": {},
   "source": [
    "##  b)"
   ]
  },
  {
   "cell_type": "code",
   "execution_count": 32,
   "metadata": {},
   "outputs": [
    {
     "name": "stdout",
     "output_type": "stream",
     "text": [
      "(561, 1)\n"
     ]
    },
    {
     "data": {
      "image/png": "[encoded data removed]",
      "text/plain": [
       "<Figure size 720x288 with 1 Axes>"
      ]
     },
     "metadata": {
      "needs_background": "light"
     },
     "output_type": "display_data"
    }
   ],
   "source": [
    "# Perform PCA and present the data using only the first principal component.\n",
    "pca = PCA(n_components=1).fit(data.values.T)\n",
    "pc1 = pca.components_.T\n",
    "print(pc1.shape)\n",
    "\n",
    "fig, ax = plt.subplots(1, 1, figsize=(10,4))\n",
    "ax.scatter(pc1, np.zeros_like(pc1), alpha=0.8, marker='|')\n",
    "ax.axes.yaxis.set_visible(False)\n",
    "ax.set_title(\"1st Principal Component\")\n",
    "ax.set_xlim(0, 0.14)\n",
    "fig.tight_layout()"
   ]
  },
  {
   "cell_type": "code",
   "execution_count": 13,
   "metadata": {},
   "outputs": [],
   "source": [
    "# Repeat the same tests as in a) and report the best clusterings."
   ]
  },
  {
   "cell_type": "code",
   "execution_count": 14,
   "metadata": {},
   "outputs": [
    {
     "data": {
      "text/plain": [
       "(0.679, 2)"
      ]
     },
     "execution_count": 14,
     "metadata": {},
     "output_type": "execute_result"
    }
   ],
   "source": [
    "# single link clustering\n",
    "best_K = None\n",
    "best_SI = -1\n",
    "for K in Kvals:\n",
    "    clustering = AgglomerativeClustering(n_clusters=K,\n",
    "                                         affinity='euclidean', \n",
    "                                         linkage='single').fit(pc1)\n",
    "    SI = silhouette_score(pc1, clustering.labels_)\n",
    "    if SI > best_SI:\n",
    "        best_K = K\n",
    "        best_SI = SI\n",
    "        \n",
    "np.round(best_SI, 3), best_K"
   ]
  },
  {
   "cell_type": "code",
   "execution_count": 15,
   "metadata": {},
   "outputs": [
    {
     "data": {
      "text/plain": [
       "{0: 560, 1: 1}"
      ]
     },
     "execution_count": 15,
     "metadata": {},
     "output_type": "execute_result"
    }
   ],
   "source": [
    "clustering = AgglomerativeClustering(n_clusters=best_K,\n",
    "                                     affinity='euclidean', \n",
    "                                     linkage='single').fit(pc1)\n",
    "arr = clustering.labels_\n",
    "occurences = {}\n",
    "for i in range(best_K):\n",
    "    occurences[i] = arr[arr==i].shape[0]\n",
    "occurences"
   ]
  },
  {
   "cell_type": "code",
   "execution_count": 16,
   "metadata": {},
   "outputs": [
    {
     "data": {
      "text/plain": [
       "(0.626, 2)"
      ]
     },
     "execution_count": 16,
     "metadata": {},
     "output_type": "execute_result"
    }
   ],
   "source": [
    "# complete link clustering\n",
    "best_K = None\n",
    "best_SI = -1\n",
    "for K in Kvals:\n",
    "    clustering = AgglomerativeClustering(n_clusters=K,\n",
    "                                         affinity='euclidean', \n",
    "                                         linkage='complete').fit(pc1)\n",
    "    SI = silhouette_score(pc1, clustering.labels_)\n",
    "    if SI > best_SI:\n",
    "        best_K = K\n",
    "        best_SI = SI\n",
    "        \n",
    "np.round(best_SI, 3), best_K"
   ]
  },
  {
   "cell_type": "code",
   "execution_count": 17,
   "metadata": {},
   "outputs": [
    {
     "data": {
      "text/plain": [
       "{0: 535, 1: 26}"
      ]
     },
     "execution_count": 17,
     "metadata": {},
     "output_type": "execute_result"
    }
   ],
   "source": [
    "clustering = AgglomerativeClustering(n_clusters=best_K,\n",
    "                                     affinity='euclidean', \n",
    "                                     linkage='complete').fit(pc1)\n",
    "arr = clustering.labels_\n",
    "occurences = {}\n",
    "for i in range(best_K):\n",
    "    occurences[i] = arr[arr==i].shape[0]\n",
    "occurences"
   ]
  },
  {
   "cell_type": "code",
   "execution_count": 18,
   "metadata": {},
   "outputs": [
    {
     "data": {
      "text/plain": [
       "(0.626, 2)"
      ]
     },
     "execution_count": 18,
     "metadata": {},
     "output_type": "execute_result"
    }
   ],
   "source": [
    "# average link clustering\n",
    "best_K = None\n",
    "best_SI = -1\n",
    "for K in Kvals:\n",
    "    clustering = AgglomerativeClustering(n_clusters=K,\n",
    "                                         affinity='euclidean', \n",
    "                                         linkage='average').fit(pc1)\n",
    "    SI = silhouette_score(pc1, clustering.labels_)\n",
    "    if SI > best_SI:\n",
    "        best_K = K\n",
    "        best_SI = SI\n",
    "        \n",
    "np.round(best_SI, 3), best_K"
   ]
  },
  {
   "cell_type": "code",
   "execution_count": 19,
   "metadata": {},
   "outputs": [
    {
     "data": {
      "text/plain": [
       "{0: 535, 1: 26}"
      ]
     },
     "execution_count": 19,
     "metadata": {},
     "output_type": "execute_result"
    }
   ],
   "source": [
    "clustering = AgglomerativeClustering(n_clusters=best_K,\n",
    "                                     affinity='euclidean', \n",
    "                                     linkage='average').fit(pc1)\n",
    "arr = clustering.labels_\n",
    "occurences = {}\n",
    "for i in range(best_K):\n",
    "    occurences[i] = arr[arr==i].shape[0]\n",
    "occurences"
   ]
  },
  {
   "cell_type": "code",
   "execution_count": 20,
   "metadata": {},
   "outputs": [
    {
     "data": {
      "text/plain": [
       "(0.594, 4)"
      ]
     },
     "execution_count": 20,
     "metadata": {},
     "output_type": "execute_result"
    }
   ],
   "source": [
    "# Ward's method clustering\n",
    "best_K = None\n",
    "best_SI = -1\n",
    "for K in Kvals:\n",
    "    clustering = AgglomerativeClustering(n_clusters=K,\n",
    "                                         affinity='euclidean', \n",
    "                                         linkage='ward').fit(pc1)\n",
    "    SI = silhouette_score(pc1, clustering.labels_)\n",
    "    if SI > best_SI:\n",
    "        best_K = K\n",
    "        best_SI = SI\n",
    "        \n",
    "np.round(best_SI, 3), best_K"
   ]
  },
  {
   "cell_type": "code",
   "execution_count": 21,
   "metadata": {},
   "outputs": [
    {
     "data": {
      "text/plain": [
       "{0: 185, 1: 198, 2: 152, 3: 26}"
      ]
     },
     "execution_count": 21,
     "metadata": {},
     "output_type": "execute_result"
    }
   ],
   "source": [
    "clustering = AgglomerativeClustering(n_clusters=best_K,\n",
    "                                     affinity='euclidean', \n",
    "                                     linkage='ward').fit(pc1)\n",
    "arr = clustering.labels_\n",
    "occurences = {}\n",
    "for i in range(best_K):\n",
    "    occurences[i] = arr[arr==i].shape[0]\n",
    "occurences"
   ]
  },
  {
   "cell_type": "markdown",
   "metadata": {},
   "source": [
    "## c)"
   ]
  },
  {
   "cell_type": "code",
   "execution_count": 54,
   "metadata": {},
   "outputs": [
    {
     "data": {
      "image/png": "[encoded data removed]",
      "text/plain": [
       "<Figure size 1440x3600 with 8 Axes>"
      ]
     },
     "metadata": {
      "needs_background": "light"
     },
     "output_type": "display_data"
    }
   ],
   "source": [
    "fig, ax = plt.subplots(len(data.columns), figsize=(20,50))\n",
    "for i, feature in enumerate(data.columns):\n",
    "    ax[i].hist(data[feature], bins=100)\n",
    "    ax[i].set_title(feature)\n",
    "fig.tight_layout()"
   ]
  },
  {
   "cell_type": "code",
   "execution_count": null,
   "metadata": {},
   "outputs": [],
   "source": []
  }
 ],
 "metadata": {
  "kernelspec": {
   "display_name": "Python 3",
   "language": "python",
   "name": "python3"
  },
  "language_info": {
   "codemirror_mode": {
    "name": "ipython",
    "version": 3
   },
   "file_extension": ".py",
   "mimetype": "text/x-python",
   "name": "python",
   "nbconvert_exporter": "python",
   "pygments_lexer": "ipython3",
   "version": "3.8.6"
  }
 },
 "nbformat": 4,
 "nbformat_minor": 4
}
