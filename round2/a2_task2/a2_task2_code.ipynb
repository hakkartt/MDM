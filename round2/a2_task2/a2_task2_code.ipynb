{
 "cells": [
  {
   "cell_type": "code",
   "execution_count": 1,
   "metadata": {},
   "outputs": [],
   "source": [
    "import pandas as pd\n",
    "import numpy as np\n",
    "import matplotlib.pyplot as plt"
   ]
  },
  {
   "cell_type": "markdown",
   "metadata": {},
   "source": [
    "# Assignment 2 - Task 2\n",
    "---------------"
   ]
  },
  {
   "cell_type": "code",
   "execution_count": 6,
   "metadata": {},
   "outputs": [],
   "source": [
    "data = {\n",
    "    't1': set(['coffee', 'milk', 'sugar', 'eggs', 'bread']),\n",
    "    't2': set(['bread', 'coffee', 'butter', 'milk', 'eggs']),\n",
    "    't3': set(['sugar', 'cheese', 'cream', 'ham', 'salt']),\n",
    "    't4': set(['eggs', 'cheese', 'apples', 'bread', 'butter']),\n",
    "    't5': set(['apples', 'bread', 'eggs', 'butter', 'tea']),\n",
    "    't6': set(['cheese', 'bread', 'coffee', 'milk', 'tea']),\n",
    "    't7': set(['apples', 'salt', 'butter', 'ham', 'coffee']),\n",
    "    't8': set(['salt', 'butter', 'bread', 'ham', 'apples'])\n",
    "}"
   ]
  },
  {
   "cell_type": "markdown",
   "metadata": {},
   "source": [
    "## a)"
   ]
  },
  {
   "cell_type": "code",
   "execution_count": 28,
   "metadata": {},
   "outputs": [
    {
     "data": {
      "text/plain": [
       "{('t1', 't2'): 0.33,\n",
       " ('t1', 't3'): 0.89,\n",
       " ('t1', 't4'): 0.75,\n",
       " ('t1', 't5'): 0.75,\n",
       " ('t1', 't6'): 0.57,\n",
       " ('t1', 't7'): 0.89,\n",
       " ('t1', 't8'): 0.89,\n",
       " ('t2', 't3'): 1.0,\n",
       " ('t2', 't4'): 0.57,\n",
       " ('t2', 't5'): 0.57,\n",
       " ('t2', 't6'): 0.57,\n",
       " ('t2', 't7'): 0.75,\n",
       " ('t2', 't8'): 0.75,\n",
       " ('t3', 't4'): 0.89,\n",
       " ('t3', 't5'): 1.0,\n",
       " ('t3', 't6'): 0.89,\n",
       " ('t3', 't7'): 0.75,\n",
       " ('t3', 't8'): 0.75,\n",
       " ('t4', 't5'): 0.33,\n",
       " ('t4', 't6'): 0.75,\n",
       " ('t4', 't7'): 0.75,\n",
       " ('t4', 't8'): 0.57,\n",
       " ('t5', 't6'): 0.75,\n",
       " ('t5', 't7'): 0.75,\n",
       " ('t5', 't8'): 0.57,\n",
       " ('t6', 't7'): 0.89,\n",
       " ('t6', 't8'): 0.89,\n",
       " ('t7', 't8'): 0.33}"
      ]
     },
     "execution_count": 28,
     "metadata": {},
     "output_type": "execute_result"
    }
   ],
   "source": [
    "def Jaccard_dists(data):\n",
    "    \"\"\"Compute pairwise Jaccard distances for each pair in data\"\"\"\n",
    "    res = {}\n",
    "    M = np.empty((8, 8))\n",
    "    for i, (t1, S1) in enumerate(data.items()):\n",
    "        for j, (t2, S2) in enumerate(data.items()):\n",
    "            if S1 != S2 and (t2, t1) not in res.keys():\n",
    "                d_J = 1 - (len(list(S1.intersection(S2))) / len(list(S1.union(S2))))\n",
    "                res[(t1, t2)] = np.round(d_J, 2)\n",
    "                M[i, j] = np.round(d_J, 2)\n",
    "    return res, M.T\n",
    "\n",
    "pjd, M = Jaccard_dists(data)\n",
    "pjd"
   ]
  },
  {
   "cell_type": "code",
   "execution_count": 26,
   "metadata": {},
   "outputs": [
    {
     "data": {
      "text/html": [
       "<div>\n",
       "<style scoped>\n",
       "    .dataframe tbody tr th:only-of-type {\n",
       "        vertical-align: middle;\n",
       "    }\n",
       "\n",
       "    .dataframe tbody tr th {\n",
       "        vertical-align: top;\n",
       "    }\n",
       "\n",
       "    .dataframe thead th {\n",
       "        text-align: right;\n",
       "    }\n",
       "</style>\n",
       "<table border=\"1\" class=\"dataframe\">\n",
       "  <thead>\n",
       "    <tr style=\"text-align: right;\">\n",
       "      <th></th>\n",
       "      <th>t1</th>\n",
       "      <th>t2</th>\n",
       "      <th>t3</th>\n",
       "      <th>t4</th>\n",
       "      <th>t5</th>\n",
       "      <th>t6</th>\n",
       "      <th>t7</th>\n",
       "      <th>t8</th>\n",
       "    </tr>\n",
       "  </thead>\n",
       "  <tbody>\n",
       "    <tr>\n",
       "      <th>t1</th>\n",
       "      <td>0.00</td>\n",
       "      <td>0.33</td>\n",
       "      <td>0.89</td>\n",
       "      <td>0.75</td>\n",
       "      <td>0.75</td>\n",
       "      <td>0.57</td>\n",
       "      <td>0.89</td>\n",
       "      <td>0.89</td>\n",
       "    </tr>\n",
       "    <tr>\n",
       "      <th>t2</th>\n",
       "      <td>0.33</td>\n",
       "      <td>0.00</td>\n",
       "      <td>1.00</td>\n",
       "      <td>0.57</td>\n",
       "      <td>0.57</td>\n",
       "      <td>0.57</td>\n",
       "      <td>0.75</td>\n",
       "      <td>0.75</td>\n",
       "    </tr>\n",
       "    <tr>\n",
       "      <th>t3</th>\n",
       "      <td>0.89</td>\n",
       "      <td>1.00</td>\n",
       "      <td>0.00</td>\n",
       "      <td>0.89</td>\n",
       "      <td>1.00</td>\n",
       "      <td>0.89</td>\n",
       "      <td>0.75</td>\n",
       "      <td>0.75</td>\n",
       "    </tr>\n",
       "    <tr>\n",
       "      <th>t4</th>\n",
       "      <td>0.75</td>\n",
       "      <td>0.57</td>\n",
       "      <td>0.89</td>\n",
       "      <td>0.00</td>\n",
       "      <td>0.33</td>\n",
       "      <td>0.75</td>\n",
       "      <td>0.75</td>\n",
       "      <td>0.57</td>\n",
       "    </tr>\n",
       "    <tr>\n",
       "      <th>t5</th>\n",
       "      <td>0.75</td>\n",
       "      <td>0.57</td>\n",
       "      <td>1.00</td>\n",
       "      <td>0.33</td>\n",
       "      <td>0.00</td>\n",
       "      <td>0.75</td>\n",
       "      <td>0.75</td>\n",
       "      <td>0.57</td>\n",
       "    </tr>\n",
       "    <tr>\n",
       "      <th>t6</th>\n",
       "      <td>0.57</td>\n",
       "      <td>0.57</td>\n",
       "      <td>0.89</td>\n",
       "      <td>0.75</td>\n",
       "      <td>0.75</td>\n",
       "      <td>0.00</td>\n",
       "      <td>0.89</td>\n",
       "      <td>0.89</td>\n",
       "    </tr>\n",
       "    <tr>\n",
       "      <th>t7</th>\n",
       "      <td>0.89</td>\n",
       "      <td>0.75</td>\n",
       "      <td>0.75</td>\n",
       "      <td>0.75</td>\n",
       "      <td>0.75</td>\n",
       "      <td>0.89</td>\n",
       "      <td>0.00</td>\n",
       "      <td>0.33</td>\n",
       "    </tr>\n",
       "    <tr>\n",
       "      <th>t8</th>\n",
       "      <td>0.89</td>\n",
       "      <td>0.75</td>\n",
       "      <td>0.75</td>\n",
       "      <td>0.57</td>\n",
       "      <td>0.57</td>\n",
       "      <td>0.89</td>\n",
       "      <td>0.33</td>\n",
       "      <td>0.00</td>\n",
       "    </tr>\n",
       "  </tbody>\n",
       "</table>\n",
       "</div>"
      ],
      "text/plain": [
       "      t1    t2    t3    t4    t5    t6    t7    t8\n",
       "t1  0.00  0.33  0.89  0.75  0.75  0.57  0.89  0.89\n",
       "t2  0.33  0.00  1.00  0.57  0.57  0.57  0.75  0.75\n",
       "t3  0.89  1.00  0.00  0.89  1.00  0.89  0.75  0.75\n",
       "t4  0.75  0.57  0.89  0.00  0.33  0.75  0.75  0.57\n",
       "t5  0.75  0.57  1.00  0.33  0.00  0.75  0.75  0.57\n",
       "t6  0.57  0.57  0.89  0.75  0.75  0.00  0.89  0.89\n",
       "t7  0.89  0.75  0.75  0.75  0.75  0.89  0.00  0.33\n",
       "t8  0.89  0.75  0.75  0.57  0.57  0.89  0.33  0.00"
      ]
     },
     "execution_count": 26,
     "metadata": {},
     "output_type": "execute_result"
    }
   ],
   "source": [
    "pd.DataFrame(M, columns=data.keys(), index=data.keys())"
   ]
  },
  {
   "cell_type": "markdown",
   "metadata": {},
   "source": [
    "## b)"
   ]
  },
  {
   "cell_type": "code",
   "execution_count": 15,
   "metadata": {},
   "outputs": [
    {
     "data": {
      "text/plain": [
       "{('t1', 't2'): 0.33,\n",
       " ('t4', 't5'): 0.33,\n",
       " ('t7', 't8'): 0.33,\n",
       " ('t1', 't6'): 0.57,\n",
       " ('t2', 't4'): 0.57,\n",
       " ('t2', 't5'): 0.57,\n",
       " ('t2', 't6'): 0.57,\n",
       " ('t4', 't8'): 0.57,\n",
       " ('t5', 't8'): 0.57,\n",
       " ('t1', 't4'): 0.75,\n",
       " ('t1', 't5'): 0.75,\n",
       " ('t2', 't7'): 0.75,\n",
       " ('t2', 't8'): 0.75,\n",
       " ('t3', 't7'): 0.75,\n",
       " ('t3', 't8'): 0.75,\n",
       " ('t4', 't6'): 0.75,\n",
       " ('t4', 't7'): 0.75,\n",
       " ('t5', 't6'): 0.75,\n",
       " ('t5', 't7'): 0.75,\n",
       " ('t1', 't3'): 0.89,\n",
       " ('t1', 't7'): 0.89,\n",
       " ('t1', 't8'): 0.89,\n",
       " ('t3', 't4'): 0.89,\n",
       " ('t3', 't6'): 0.89,\n",
       " ('t6', 't7'): 0.89,\n",
       " ('t6', 't8'): 0.89,\n",
       " ('t2', 't3'): 1.0,\n",
       " ('t3', 't5'): 1.0}"
      ]
     },
     "execution_count": 15,
     "metadata": {},
     "output_type": "execute_result"
    }
   ],
   "source": [
    "{k: v for k, v in sorted(pjd.items(), key=lambda item: item[1])},\n"
   ]
  },
  {
   "cell_type": "code",
   "execution_count": null,
   "metadata": {},
   "outputs": [],
   "source": []
  }
 ],
 "metadata": {
  "kernelspec": {
   "display_name": "Python 3",
   "language": "python",
   "name": "python3"
  },
  "language_info": {
   "codemirror_mode": {
    "name": "ipython",
    "version": 3
   },
   "file_extension": ".py",
   "mimetype": "text/x-python",
   "name": "python",
   "nbconvert_exporter": "python",
   "pygments_lexer": "ipython3",
   "version": "3.8.6"
  }
 },
 "nbformat": 4,
 "nbformat_minor": 4
}
